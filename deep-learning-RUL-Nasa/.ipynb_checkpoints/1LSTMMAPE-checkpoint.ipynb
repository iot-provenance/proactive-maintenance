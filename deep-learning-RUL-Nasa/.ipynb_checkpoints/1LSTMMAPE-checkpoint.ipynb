{
 "cells": [
  {
   "cell_type": "markdown",
   "metadata": {},
   "source": [
    "# Aircraft Engine RUL Prediction"
   ]
  },
  {
   "cell_type": "code",
   "execution_count": 1,
   "metadata": {
    "tags": []
   },
   "outputs": [],
   "source": [
    "import pandas as pd\n",
    "import numpy as np\n",
    "\n",
    "#to plot the data\n",
    "import matplotlib.pyplot as plt\n",
    "import seaborn as sns\n",
    "plt.style.use('fivethirtyeight')\n",
    "%matplotlib inline\n",
    "\n",
    "from sklearn.preprocessing import MinMaxScaler #to normalize data\n",
    "\n",
    "import os\n",
    "os.chdir(\"D:/RulNasa/\")\n",
    "\n",
    "#for deep learning\n",
    "import keras\n",
    "import keras.backend as k\n",
    "from keras.models import Sequential\n",
    "from keras.layers import Dense, LSTM, Activation, Masking, Dropout\n",
    "from keras.optimizers import RMSprop,adam\n",
    "from keras.callbacks import History\n",
    "from keras import callbacks"
   ]
  },
  {
   "cell_type": "code",
   "execution_count": null,
   "metadata": {
    "tags": []
   },
   "outputs": [],
   "source": []
  },
  {
   "cell_type": "code",
   "execution_count": 2,
   "metadata": {
    "tags": []
   },
   "outputs": [],
   "source": [
    "# based on data wrangling python notebook\n",
    "def prepare_data(drop_cols = True):\n",
    "    dependent_var = ['RUL']\n",
    "    index_columns_names =  [\"UnitNumber\",\"Cycle\"]\n",
    "    operational_settings_columns_names = [\"OpSet\"+str(i) for i in range(1,4)]\n",
    "    sensor_measure_columns_names =[\"SensorMeasure\"+str(i) for i in range(1,22)]\n",
    "    input_file_column_names = index_columns_names + operational_settings_columns_names + sensor_measure_columns_names\n",
    "\n",
    "    cols_to_drop = ['OpSet3', 'SensorMeasure1', 'SensorMeasure5', 'SensorMeasure6', 'SensorMeasure10', 'SensorMeasure14',\n",
    "     'SensorMeasure16', 'SensorMeasure18', 'SensorMeasure19']\n",
    "\n",
    "    df_train = pd.read_csv('train_FD004.txt',delim_whitespace=True,names=input_file_column_names)\n",
    "  \n",
    "    \n",
    "    rul = pd.DataFrame(df_train.groupby('UnitNumber')['Cycle'].max()).reset_index()\n",
    "    rul.columns = ['UnitNumber', 'max']\n",
    "    df_train = df_train.merge(rul, on=['UnitNumber'], how='left')\n",
    "    df_train['RUL'] = df_train['max'] - df_train['Cycle']\n",
    "    df_train.drop('max', axis=1, inplace=True)\n",
    "\n",
    "    df_test = pd.read_csv('test_FD004.txt', delim_whitespace=True, names=input_file_column_names)\n",
    "    \n",
    "    if(drop_cols == True):\n",
    "        df_train = df_train.drop(cols_to_drop, axis = 1)\n",
    "        df_test = df_test.drop(cols_to_drop, axis = 1)\n",
    "\n",
    "    y_true = pd.read_csv('RUL_FD004.txt', delim_whitespace=True,names=[\"RUL\"])\n",
    "    y_true[\"UnitNumber\"] = y_true.index\n",
    "    \n",
    "    return df_train, df_test, y_true"
   ]
  },
  {
   "cell_type": "markdown",
   "metadata": {},
   "source": [
    "## Model"
   ]
  },
  {
   "cell_type": "markdown",
   "metadata": {},
   "source": [
    "### Data Preprocessing"
   ]
  },
  {
   "cell_type": "markdown",
   "metadata": {},
   "source": [
    "To make sure that variance of features remain in the same range, it is important to scale the features. If a feature's variance is order of magnitude more than the variance of other features, that particular feature might dominate other features in the dataset, which is not desirable."
   ]
  },
  {
   "cell_type": "code",
   "execution_count": 3,
   "metadata": {
    "tags": []
   },
   "outputs": [],
   "source": [
    "df_train, df_test, y_true = prepare_data(drop_cols=True)\n",
    "df_train.shape, df_test.shape, y_true.shape\n",
    "\n",
    "feats = [column for column in df_train.columns if column !=\"RUL\"]\n",
    "\n",
    "min_max_scaler = MinMaxScaler(feature_range=(-1,1))\n",
    "\n",
    "df_train[feats] = min_max_scaler.fit_transform(df_train[feats])\n",
    "df_test[feats] = min_max_scaler.fit_transform(df_test[feats])"
   ]
  },
  {
   "cell_type": "markdown",
   "metadata": {},
   "source": [
    "\n",
    "LSTM expects an input in the shape of a numpy array of 3 dimensions and I will need to convert train and test data accordingly."
   ]
  },
  {
   "cell_type": "code",
   "execution_count": 4,
   "metadata": {
    "tags": []
   },
   "outputs": [],
   "source": [
    "def gen_train(id_df, seq_length, seq_cols):\n",
    "    \"\"\"\n",
    "        function to prepare train data into (samples, time steps, features)\n",
    "        id_df = train dataframe\n",
    "        seq_length = look back period\n",
    "        seq_cols = feature columns\n",
    "    \"\"\"\n",
    "        \n",
    "    data_array = id_df[seq_cols].values\n",
    "    num_elements = data_array.shape[0]\n",
    "    lstm_array=[]\n",
    "    \n",
    "    for start, stop in zip(range(0, num_elements-seq_length+1), range(seq_length, num_elements+1)):\n",
    "        lstm_array.append(data_array[start:stop, :])\n",
    "    \n",
    "    return np.array(lstm_array)"
   ]
  },
  {
   "cell_type": "code",
   "execution_count": 5,
   "metadata": {
    "tags": []
   },
   "outputs": [],
   "source": [
    "def gen_target(id_df, seq_length, label):\n",
    "    data_array = id_df[label].values\n",
    "    num_elements = data_array.shape[0]\n",
    "    return data_array[seq_length-1:num_elements+1]"
   ]
  },
  {
   "cell_type": "code",
   "execution_count": 6,
   "metadata": {
    "tags": []
   },
   "outputs": [],
   "source": [
    "def gen_test(id_df, seq_length, seq_cols, mask_value):\n",
    "    \"\"\"\n",
    "        function to prepare test data into (samples, time steps, features)\n",
    "        function only returns last sequence of data for every unit\n",
    "        id_df = test dataframe\n",
    "        seq_length = look back period\n",
    "        seq_cols = feature columns\n",
    "    \"\"\"\n",
    "    df_mask = pd.DataFrame(np.zeros((seq_length-1,id_df.shape[1])),columns=id_df.columns)\n",
    "    df_mask[:] = mask_value\n",
    "    \n",
    "    id_df = df_mask.append(id_df,ignore_index=True)\n",
    "    \n",
    "    data_array = id_df[seq_cols].values\n",
    "    num_elements = data_array.shape[0]\n",
    "    lstm_array=[]\n",
    "    \n",
    "    start = num_elements-seq_length\n",
    "    stop = num_elements\n",
    "    \n",
    "    lstm_array.append(data_array[start:stop, :])\n",
    "    \n",
    "    return np.array(lstm_array)"
   ]
  },
  {
   "cell_type": "markdown",
   "metadata": {},
   "source": [
    "\n",
    "Let's define look back period and mask_value"
   ]
  },
  {
   "cell_type": "code",
   "execution_count": 7,
   "metadata": {
    "tags": []
   },
   "outputs": [],
   "source": [
    "sequence_length = 50\n",
    "mask_value = 0"
   ]
  },
  {
   "cell_type": "markdown",
   "metadata": {},
   "source": [
    "\n",
    "Let's prepare data using above functions."
   ]
  },
  {
   "cell_type": "code",
   "execution_count": 8,
   "metadata": {
    "tags": []
   },
   "outputs": [
    {
     "name": "stdout",
     "output_type": "stream",
     "text": [
      "(49048, 50, 17)\n"
     ]
    }
   ],
   "source": [
    "#generate train\n",
    "x_train=np.concatenate(list(list(gen_train(df_train[df_train['UnitNumber']==unit], sequence_length, feats)) for unit in df_train['UnitNumber'].unique()))\n",
    "print(x_train.shape)"
   ]
  },
  {
   "cell_type": "code",
   "execution_count": 9,
   "metadata": {
    "scrolled": true,
    "tags": []
   },
   "outputs": [
    {
     "data": {
      "text/plain": [
       "(49048,)"
      ]
     },
     "execution_count": 9,
     "metadata": {},
     "output_type": "execute_result"
    }
   ],
   "source": [
    "#generate target of train\n",
    "y_train = np.concatenate(list(list(gen_target(df_train[df_train['UnitNumber']==unit], sequence_length, \"RUL\")) for unit in df_train['UnitNumber'].unique()))\n",
    "y_train.shape"
   ]
  },
  {
   "cell_type": "code",
   "execution_count": 10,
   "metadata": {
    "tags": []
   },
   "outputs": [
    {
     "name": "stderr",
     "output_type": "stream",
     "text": [
      "C:\\Users\\elpaem\\AppData\\Local\\Temp\\ipykernel_2412\\3243649304.py:12: FutureWarning: The frame.append method is deprecated and will be removed from pandas in a future version. Use pandas.concat instead.\n",
      "  id_df = df_mask.append(id_df,ignore_index=True)\n",
      "C:\\Users\\elpaem\\AppData\\Local\\Temp\\ipykernel_2412\\3243649304.py:12: FutureWarning: The frame.append method is deprecated and will be removed from pandas in a future version. Use pandas.concat instead.\n",
      "  id_df = df_mask.append(id_df,ignore_index=True)\n",
      "C:\\Users\\elpaem\\AppData\\Local\\Temp\\ipykernel_2412\\3243649304.py:12: FutureWarning: The frame.append method is deprecated and will be removed from pandas in a future version. Use pandas.concat instead.\n",
      "  id_df = df_mask.append(id_df,ignore_index=True)\n",
      "C:\\Users\\elpaem\\AppData\\Local\\Temp\\ipykernel_2412\\3243649304.py:12: FutureWarning: The frame.append method is deprecated and will be removed from pandas in a future version. Use pandas.concat instead.\n",
      "  id_df = df_mask.append(id_df,ignore_index=True)\n",
      "C:\\Users\\elpaem\\AppData\\Local\\Temp\\ipykernel_2412\\3243649304.py:12: FutureWarning: The frame.append method is deprecated and will be removed from pandas in a future version. Use pandas.concat instead.\n",
      "  id_df = df_mask.append(id_df,ignore_index=True)\n",
      "C:\\Users\\elpaem\\AppData\\Local\\Temp\\ipykernel_2412\\3243649304.py:12: FutureWarning: The frame.append method is deprecated and will be removed from pandas in a future version. Use pandas.concat instead.\n",
      "  id_df = df_mask.append(id_df,ignore_index=True)\n",
      "C:\\Users\\elpaem\\AppData\\Local\\Temp\\ipykernel_2412\\3243649304.py:12: FutureWarning: The frame.append method is deprecated and will be removed from pandas in a future version. Use pandas.concat instead.\n",
      "  id_df = df_mask.append(id_df,ignore_index=True)\n",
      "C:\\Users\\elpaem\\AppData\\Local\\Temp\\ipykernel_2412\\3243649304.py:12: FutureWarning: The frame.append method is deprecated and will be removed from pandas in a future version. Use pandas.concat instead.\n",
      "  id_df = df_mask.append(id_df,ignore_index=True)\n",
      "C:\\Users\\elpaem\\AppData\\Local\\Temp\\ipykernel_2412\\3243649304.py:12: FutureWarning: The frame.append method is deprecated and will be removed from pandas in a future version. Use pandas.concat instead.\n",
      "  id_df = df_mask.append(id_df,ignore_index=True)\n",
      "C:\\Users\\elpaem\\AppData\\Local\\Temp\\ipykernel_2412\\3243649304.py:12: FutureWarning: The frame.append method is deprecated and will be removed from pandas in a future version. Use pandas.concat instead.\n",
      "  id_df = df_mask.append(id_df,ignore_index=True)\n",
      "C:\\Users\\elpaem\\AppData\\Local\\Temp\\ipykernel_2412\\3243649304.py:12: FutureWarning: The frame.append method is deprecated and will be removed from pandas in a future version. Use pandas.concat instead.\n",
      "  id_df = df_mask.append(id_df,ignore_index=True)\n",
      "C:\\Users\\elpaem\\AppData\\Local\\Temp\\ipykernel_2412\\3243649304.py:12: FutureWarning: The frame.append method is deprecated and will be removed from pandas in a future version. Use pandas.concat instead.\n",
      "  id_df = df_mask.append(id_df,ignore_index=True)\n",
      "C:\\Users\\elpaem\\AppData\\Local\\Temp\\ipykernel_2412\\3243649304.py:12: FutureWarning: The frame.append method is deprecated and will be removed from pandas in a future version. Use pandas.concat instead.\n",
      "  id_df = df_mask.append(id_df,ignore_index=True)\n",
      "C:\\Users\\elpaem\\AppData\\Local\\Temp\\ipykernel_2412\\3243649304.py:12: FutureWarning: The frame.append method is deprecated and will be removed from pandas in a future version. Use pandas.concat instead.\n",
      "  id_df = df_mask.append(id_df,ignore_index=True)\n",
      "C:\\Users\\elpaem\\AppData\\Local\\Temp\\ipykernel_2412\\3243649304.py:12: FutureWarning: The frame.append method is deprecated and will be removed from pandas in a future version. Use pandas.concat instead.\n",
      "  id_df = df_mask.append(id_df,ignore_index=True)\n",
      "C:\\Users\\elpaem\\AppData\\Local\\Temp\\ipykernel_2412\\3243649304.py:12: FutureWarning: The frame.append method is deprecated and will be removed from pandas in a future version. Use pandas.concat instead.\n",
      "  id_df = df_mask.append(id_df,ignore_index=True)\n",
      "C:\\Users\\elpaem\\AppData\\Local\\Temp\\ipykernel_2412\\3243649304.py:12: FutureWarning: The frame.append method is deprecated and will be removed from pandas in a future version. Use pandas.concat instead.\n",
      "  id_df = df_mask.append(id_df,ignore_index=True)\n",
      "C:\\Users\\elpaem\\AppData\\Local\\Temp\\ipykernel_2412\\3243649304.py:12: FutureWarning: The frame.append method is deprecated and will be removed from pandas in a future version. Use pandas.concat instead.\n",
      "  id_df = df_mask.append(id_df,ignore_index=True)\n",
      "C:\\Users\\elpaem\\AppData\\Local\\Temp\\ipykernel_2412\\3243649304.py:12: FutureWarning: The frame.append method is deprecated and will be removed from pandas in a future version. Use pandas.concat instead.\n",
      "  id_df = df_mask.append(id_df,ignore_index=True)\n",
      "C:\\Users\\elpaem\\AppData\\Local\\Temp\\ipykernel_2412\\3243649304.py:12: FutureWarning: The frame.append method is deprecated and will be removed from pandas in a future version. Use pandas.concat instead.\n",
      "  id_df = df_mask.append(id_df,ignore_index=True)\n",
      "C:\\Users\\elpaem\\AppData\\Local\\Temp\\ipykernel_2412\\3243649304.py:12: FutureWarning: The frame.append method is deprecated and will be removed from pandas in a future version. Use pandas.concat instead.\n",
      "  id_df = df_mask.append(id_df,ignore_index=True)\n",
      "C:\\Users\\elpaem\\AppData\\Local\\Temp\\ipykernel_2412\\3243649304.py:12: FutureWarning: The frame.append method is deprecated and will be removed from pandas in a future version. Use pandas.concat instead.\n",
      "  id_df = df_mask.append(id_df,ignore_index=True)\n",
      "C:\\Users\\elpaem\\AppData\\Local\\Temp\\ipykernel_2412\\3243649304.py:12: FutureWarning: The frame.append method is deprecated and will be removed from pandas in a future version. Use pandas.concat instead.\n",
      "  id_df = df_mask.append(id_df,ignore_index=True)\n",
      "C:\\Users\\elpaem\\AppData\\Local\\Temp\\ipykernel_2412\\3243649304.py:12: FutureWarning: The frame.append method is deprecated and will be removed from pandas in a future version. Use pandas.concat instead.\n",
      "  id_df = df_mask.append(id_df,ignore_index=True)\n",
      "C:\\Users\\elpaem\\AppData\\Local\\Temp\\ipykernel_2412\\3243649304.py:12: FutureWarning: The frame.append method is deprecated and will be removed from pandas in a future version. Use pandas.concat instead.\n",
      "  id_df = df_mask.append(id_df,ignore_index=True)\n",
      "C:\\Users\\elpaem\\AppData\\Local\\Temp\\ipykernel_2412\\3243649304.py:12: FutureWarning: The frame.append method is deprecated and will be removed from pandas in a future version. Use pandas.concat instead.\n",
      "  id_df = df_mask.append(id_df,ignore_index=True)\n",
      "C:\\Users\\elpaem\\AppData\\Local\\Temp\\ipykernel_2412\\3243649304.py:12: FutureWarning: The frame.append method is deprecated and will be removed from pandas in a future version. Use pandas.concat instead.\n",
      "  id_df = df_mask.append(id_df,ignore_index=True)\n",
      "C:\\Users\\elpaem\\AppData\\Local\\Temp\\ipykernel_2412\\3243649304.py:12: FutureWarning: The frame.append method is deprecated and will be removed from pandas in a future version. Use pandas.concat instead.\n",
      "  id_df = df_mask.append(id_df,ignore_index=True)\n",
      "C:\\Users\\elpaem\\AppData\\Local\\Temp\\ipykernel_2412\\3243649304.py:12: FutureWarning: The frame.append method is deprecated and will be removed from pandas in a future version. Use pandas.concat instead.\n",
      "  id_df = df_mask.append(id_df,ignore_index=True)\n",
      "C:\\Users\\elpaem\\AppData\\Local\\Temp\\ipykernel_2412\\3243649304.py:12: FutureWarning: The frame.append method is deprecated and will be removed from pandas in a future version. Use pandas.concat instead.\n",
      "  id_df = df_mask.append(id_df,ignore_index=True)\n",
      "C:\\Users\\elpaem\\AppData\\Local\\Temp\\ipykernel_2412\\3243649304.py:12: FutureWarning: The frame.append method is deprecated and will be removed from pandas in a future version. Use pandas.concat instead.\n",
      "  id_df = df_mask.append(id_df,ignore_index=True)\n",
      "C:\\Users\\elpaem\\AppData\\Local\\Temp\\ipykernel_2412\\3243649304.py:12: FutureWarning: The frame.append method is deprecated and will be removed from pandas in a future version. Use pandas.concat instead.\n",
      "  id_df = df_mask.append(id_df,ignore_index=True)\n",
      "C:\\Users\\elpaem\\AppData\\Local\\Temp\\ipykernel_2412\\3243649304.py:12: FutureWarning: The frame.append method is deprecated and will be removed from pandas in a future version. Use pandas.concat instead.\n",
      "  id_df = df_mask.append(id_df,ignore_index=True)\n",
      "C:\\Users\\elpaem\\AppData\\Local\\Temp\\ipykernel_2412\\3243649304.py:12: FutureWarning: The frame.append method is deprecated and will be removed from pandas in a future version. Use pandas.concat instead.\n",
      "  id_df = df_mask.append(id_df,ignore_index=True)\n",
      "C:\\Users\\elpaem\\AppData\\Local\\Temp\\ipykernel_2412\\3243649304.py:12: FutureWarning: The frame.append method is deprecated and will be removed from pandas in a future version. Use pandas.concat instead.\n",
      "  id_df = df_mask.append(id_df,ignore_index=True)\n",
      "C:\\Users\\elpaem\\AppData\\Local\\Temp\\ipykernel_2412\\3243649304.py:12: FutureWarning: The frame.append method is deprecated and will be removed from pandas in a future version. Use pandas.concat instead.\n",
      "  id_df = df_mask.append(id_df,ignore_index=True)\n",
      "C:\\Users\\elpaem\\AppData\\Local\\Temp\\ipykernel_2412\\3243649304.py:12: FutureWarning: The frame.append method is deprecated and will be removed from pandas in a future version. Use pandas.concat instead.\n",
      "  id_df = df_mask.append(id_df,ignore_index=True)\n",
      "C:\\Users\\elpaem\\AppData\\Local\\Temp\\ipykernel_2412\\3243649304.py:12: FutureWarning: The frame.append method is deprecated and will be removed from pandas in a future version. Use pandas.concat instead.\n",
      "  id_df = df_mask.append(id_df,ignore_index=True)\n",
      "C:\\Users\\elpaem\\AppData\\Local\\Temp\\ipykernel_2412\\3243649304.py:12: FutureWarning: The frame.append method is deprecated and will be removed from pandas in a future version. Use pandas.concat instead.\n",
      "  id_df = df_mask.append(id_df,ignore_index=True)\n",
      "C:\\Users\\elpaem\\AppData\\Local\\Temp\\ipykernel_2412\\3243649304.py:12: FutureWarning: The frame.append method is deprecated and will be removed from pandas in a future version. Use pandas.concat instead.\n",
      "  id_df = df_mask.append(id_df,ignore_index=True)\n",
      "C:\\Users\\elpaem\\AppData\\Local\\Temp\\ipykernel_2412\\3243649304.py:12: FutureWarning: The frame.append method is deprecated and will be removed from pandas in a future version. Use pandas.concat instead.\n",
      "  id_df = df_mask.append(id_df,ignore_index=True)\n",
      "C:\\Users\\elpaem\\AppData\\Local\\Temp\\ipykernel_2412\\3243649304.py:12: FutureWarning: The frame.append method is deprecated and will be removed from pandas in a future version. Use pandas.concat instead.\n",
      "  id_df = df_mask.append(id_df,ignore_index=True)\n",
      "C:\\Users\\elpaem\\AppData\\Local\\Temp\\ipykernel_2412\\3243649304.py:12: FutureWarning: The frame.append method is deprecated and will be removed from pandas in a future version. Use pandas.concat instead.\n",
      "  id_df = df_mask.append(id_df,ignore_index=True)\n",
      "C:\\Users\\elpaem\\AppData\\Local\\Temp\\ipykernel_2412\\3243649304.py:12: FutureWarning: The frame.append method is deprecated and will be removed from pandas in a future version. Use pandas.concat instead.\n",
      "  id_df = df_mask.append(id_df,ignore_index=True)\n",
      "C:\\Users\\elpaem\\AppData\\Local\\Temp\\ipykernel_2412\\3243649304.py:12: FutureWarning: The frame.append method is deprecated and will be removed from pandas in a future version. Use pandas.concat instead.\n",
      "  id_df = df_mask.append(id_df,ignore_index=True)\n",
      "C:\\Users\\elpaem\\AppData\\Local\\Temp\\ipykernel_2412\\3243649304.py:12: FutureWarning: The frame.append method is deprecated and will be removed from pandas in a future version. Use pandas.concat instead.\n",
      "  id_df = df_mask.append(id_df,ignore_index=True)\n",
      "C:\\Users\\elpaem\\AppData\\Local\\Temp\\ipykernel_2412\\3243649304.py:12: FutureWarning: The frame.append method is deprecated and will be removed from pandas in a future version. Use pandas.concat instead.\n",
      "  id_df = df_mask.append(id_df,ignore_index=True)\n",
      "C:\\Users\\elpaem\\AppData\\Local\\Temp\\ipykernel_2412\\3243649304.py:12: FutureWarning: The frame.append method is deprecated and will be removed from pandas in a future version. Use pandas.concat instead.\n",
      "  id_df = df_mask.append(id_df,ignore_index=True)\n",
      "C:\\Users\\elpaem\\AppData\\Local\\Temp\\ipykernel_2412\\3243649304.py:12: FutureWarning: The frame.append method is deprecated and will be removed from pandas in a future version. Use pandas.concat instead.\n",
      "  id_df = df_mask.append(id_df,ignore_index=True)\n",
      "C:\\Users\\elpaem\\AppData\\Local\\Temp\\ipykernel_2412\\3243649304.py:12: FutureWarning: The frame.append method is deprecated and will be removed from pandas in a future version. Use pandas.concat instead.\n",
      "  id_df = df_mask.append(id_df,ignore_index=True)\n",
      "C:\\Users\\elpaem\\AppData\\Local\\Temp\\ipykernel_2412\\3243649304.py:12: FutureWarning: The frame.append method is deprecated and will be removed from pandas in a future version. Use pandas.concat instead.\n",
      "  id_df = df_mask.append(id_df,ignore_index=True)\n",
      "C:\\Users\\elpaem\\AppData\\Local\\Temp\\ipykernel_2412\\3243649304.py:12: FutureWarning: The frame.append method is deprecated and will be removed from pandas in a future version. Use pandas.concat instead.\n",
      "  id_df = df_mask.append(id_df,ignore_index=True)\n",
      "C:\\Users\\elpaem\\AppData\\Local\\Temp\\ipykernel_2412\\3243649304.py:12: FutureWarning: The frame.append method is deprecated and will be removed from pandas in a future version. Use pandas.concat instead.\n",
      "  id_df = df_mask.append(id_df,ignore_index=True)\n",
      "C:\\Users\\elpaem\\AppData\\Local\\Temp\\ipykernel_2412\\3243649304.py:12: FutureWarning: The frame.append method is deprecated and will be removed from pandas in a future version. Use pandas.concat instead.\n",
      "  id_df = df_mask.append(id_df,ignore_index=True)\n",
      "C:\\Users\\elpaem\\AppData\\Local\\Temp\\ipykernel_2412\\3243649304.py:12: FutureWarning: The frame.append method is deprecated and will be removed from pandas in a future version. Use pandas.concat instead.\n",
      "  id_df = df_mask.append(id_df,ignore_index=True)\n",
      "C:\\Users\\elpaem\\AppData\\Local\\Temp\\ipykernel_2412\\3243649304.py:12: FutureWarning: The frame.append method is deprecated and will be removed from pandas in a future version. Use pandas.concat instead.\n",
      "  id_df = df_mask.append(id_df,ignore_index=True)\n",
      "C:\\Users\\elpaem\\AppData\\Local\\Temp\\ipykernel_2412\\3243649304.py:12: FutureWarning: The frame.append method is deprecated and will be removed from pandas in a future version. Use pandas.concat instead.\n",
      "  id_df = df_mask.append(id_df,ignore_index=True)\n",
      "C:\\Users\\elpaem\\AppData\\Local\\Temp\\ipykernel_2412\\3243649304.py:12: FutureWarning: The frame.append method is deprecated and will be removed from pandas in a future version. Use pandas.concat instead.\n",
      "  id_df = df_mask.append(id_df,ignore_index=True)\n",
      "C:\\Users\\elpaem\\AppData\\Local\\Temp\\ipykernel_2412\\3243649304.py:12: FutureWarning: The frame.append method is deprecated and will be removed from pandas in a future version. Use pandas.concat instead.\n",
      "  id_df = df_mask.append(id_df,ignore_index=True)\n",
      "C:\\Users\\elpaem\\AppData\\Local\\Temp\\ipykernel_2412\\3243649304.py:12: FutureWarning: The frame.append method is deprecated and will be removed from pandas in a future version. Use pandas.concat instead.\n",
      "  id_df = df_mask.append(id_df,ignore_index=True)\n",
      "C:\\Users\\elpaem\\AppData\\Local\\Temp\\ipykernel_2412\\3243649304.py:12: FutureWarning: The frame.append method is deprecated and will be removed from pandas in a future version. Use pandas.concat instead.\n",
      "  id_df = df_mask.append(id_df,ignore_index=True)\n",
      "C:\\Users\\elpaem\\AppData\\Local\\Temp\\ipykernel_2412\\3243649304.py:12: FutureWarning: The frame.append method is deprecated and will be removed from pandas in a future version. Use pandas.concat instead.\n",
      "  id_df = df_mask.append(id_df,ignore_index=True)\n",
      "C:\\Users\\elpaem\\AppData\\Local\\Temp\\ipykernel_2412\\3243649304.py:12: FutureWarning: The frame.append method is deprecated and will be removed from pandas in a future version. Use pandas.concat instead.\n",
      "  id_df = df_mask.append(id_df,ignore_index=True)\n",
      "C:\\Users\\elpaem\\AppData\\Local\\Temp\\ipykernel_2412\\3243649304.py:12: FutureWarning: The frame.append method is deprecated and will be removed from pandas in a future version. Use pandas.concat instead.\n",
      "  id_df = df_mask.append(id_df,ignore_index=True)\n",
      "C:\\Users\\elpaem\\AppData\\Local\\Temp\\ipykernel_2412\\3243649304.py:12: FutureWarning: The frame.append method is deprecated and will be removed from pandas in a future version. Use pandas.concat instead.\n",
      "  id_df = df_mask.append(id_df,ignore_index=True)\n",
      "C:\\Users\\elpaem\\AppData\\Local\\Temp\\ipykernel_2412\\3243649304.py:12: FutureWarning: The frame.append method is deprecated and will be removed from pandas in a future version. Use pandas.concat instead.\n",
      "  id_df = df_mask.append(id_df,ignore_index=True)\n",
      "C:\\Users\\elpaem\\AppData\\Local\\Temp\\ipykernel_2412\\3243649304.py:12: FutureWarning: The frame.append method is deprecated and will be removed from pandas in a future version. Use pandas.concat instead.\n",
      "  id_df = df_mask.append(id_df,ignore_index=True)\n",
      "C:\\Users\\elpaem\\AppData\\Local\\Temp\\ipykernel_2412\\3243649304.py:12: FutureWarning: The frame.append method is deprecated and will be removed from pandas in a future version. Use pandas.concat instead.\n",
      "  id_df = df_mask.append(id_df,ignore_index=True)\n",
      "C:\\Users\\elpaem\\AppData\\Local\\Temp\\ipykernel_2412\\3243649304.py:12: FutureWarning: The frame.append method is deprecated and will be removed from pandas in a future version. Use pandas.concat instead.\n",
      "  id_df = df_mask.append(id_df,ignore_index=True)\n",
      "C:\\Users\\elpaem\\AppData\\Local\\Temp\\ipykernel_2412\\3243649304.py:12: FutureWarning: The frame.append method is deprecated and will be removed from pandas in a future version. Use pandas.concat instead.\n",
      "  id_df = df_mask.append(id_df,ignore_index=True)\n",
      "C:\\Users\\elpaem\\AppData\\Local\\Temp\\ipykernel_2412\\3243649304.py:12: FutureWarning: The frame.append method is deprecated and will be removed from pandas in a future version. Use pandas.concat instead.\n",
      "  id_df = df_mask.append(id_df,ignore_index=True)\n",
      "C:\\Users\\elpaem\\AppData\\Local\\Temp\\ipykernel_2412\\3243649304.py:12: FutureWarning: The frame.append method is deprecated and will be removed from pandas in a future version. Use pandas.concat instead.\n",
      "  id_df = df_mask.append(id_df,ignore_index=True)\n",
      "C:\\Users\\elpaem\\AppData\\Local\\Temp\\ipykernel_2412\\3243649304.py:12: FutureWarning: The frame.append method is deprecated and will be removed from pandas in a future version. Use pandas.concat instead.\n",
      "  id_df = df_mask.append(id_df,ignore_index=True)\n",
      "C:\\Users\\elpaem\\AppData\\Local\\Temp\\ipykernel_2412\\3243649304.py:12: FutureWarning: The frame.append method is deprecated and will be removed from pandas in a future version. Use pandas.concat instead.\n",
      "  id_df = df_mask.append(id_df,ignore_index=True)\n",
      "C:\\Users\\elpaem\\AppData\\Local\\Temp\\ipykernel_2412\\3243649304.py:12: FutureWarning: The frame.append method is deprecated and will be removed from pandas in a future version. Use pandas.concat instead.\n",
      "  id_df = df_mask.append(id_df,ignore_index=True)\n",
      "C:\\Users\\elpaem\\AppData\\Local\\Temp\\ipykernel_2412\\3243649304.py:12: FutureWarning: The frame.append method is deprecated and will be removed from pandas in a future version. Use pandas.concat instead.\n",
      "  id_df = df_mask.append(id_df,ignore_index=True)\n",
      "C:\\Users\\elpaem\\AppData\\Local\\Temp\\ipykernel_2412\\3243649304.py:12: FutureWarning: The frame.append method is deprecated and will be removed from pandas in a future version. Use pandas.concat instead.\n",
      "  id_df = df_mask.append(id_df,ignore_index=True)\n",
      "C:\\Users\\elpaem\\AppData\\Local\\Temp\\ipykernel_2412\\3243649304.py:12: FutureWarning: The frame.append method is deprecated and will be removed from pandas in a future version. Use pandas.concat instead.\n",
      "  id_df = df_mask.append(id_df,ignore_index=True)\n",
      "C:\\Users\\elpaem\\AppData\\Local\\Temp\\ipykernel_2412\\3243649304.py:12: FutureWarning: The frame.append method is deprecated and will be removed from pandas in a future version. Use pandas.concat instead.\n",
      "  id_df = df_mask.append(id_df,ignore_index=True)\n",
      "C:\\Users\\elpaem\\AppData\\Local\\Temp\\ipykernel_2412\\3243649304.py:12: FutureWarning: The frame.append method is deprecated and will be removed from pandas in a future version. Use pandas.concat instead.\n",
      "  id_df = df_mask.append(id_df,ignore_index=True)\n",
      "C:\\Users\\elpaem\\AppData\\Local\\Temp\\ipykernel_2412\\3243649304.py:12: FutureWarning: The frame.append method is deprecated and will be removed from pandas in a future version. Use pandas.concat instead.\n",
      "  id_df = df_mask.append(id_df,ignore_index=True)\n",
      "C:\\Users\\elpaem\\AppData\\Local\\Temp\\ipykernel_2412\\3243649304.py:12: FutureWarning: The frame.append method is deprecated and will be removed from pandas in a future version. Use pandas.concat instead.\n",
      "  id_df = df_mask.append(id_df,ignore_index=True)\n",
      "C:\\Users\\elpaem\\AppData\\Local\\Temp\\ipykernel_2412\\3243649304.py:12: FutureWarning: The frame.append method is deprecated and will be removed from pandas in a future version. Use pandas.concat instead.\n",
      "  id_df = df_mask.append(id_df,ignore_index=True)\n",
      "C:\\Users\\elpaem\\AppData\\Local\\Temp\\ipykernel_2412\\3243649304.py:12: FutureWarning: The frame.append method is deprecated and will be removed from pandas in a future version. Use pandas.concat instead.\n",
      "  id_df = df_mask.append(id_df,ignore_index=True)\n",
      "C:\\Users\\elpaem\\AppData\\Local\\Temp\\ipykernel_2412\\3243649304.py:12: FutureWarning: The frame.append method is deprecated and will be removed from pandas in a future version. Use pandas.concat instead.\n",
      "  id_df = df_mask.append(id_df,ignore_index=True)\n",
      "C:\\Users\\elpaem\\AppData\\Local\\Temp\\ipykernel_2412\\3243649304.py:12: FutureWarning: The frame.append method is deprecated and will be removed from pandas in a future version. Use pandas.concat instead.\n",
      "  id_df = df_mask.append(id_df,ignore_index=True)\n",
      "C:\\Users\\elpaem\\AppData\\Local\\Temp\\ipykernel_2412\\3243649304.py:12: FutureWarning: The frame.append method is deprecated and will be removed from pandas in a future version. Use pandas.concat instead.\n",
      "  id_df = df_mask.append(id_df,ignore_index=True)\n",
      "C:\\Users\\elpaem\\AppData\\Local\\Temp\\ipykernel_2412\\3243649304.py:12: FutureWarning: The frame.append method is deprecated and will be removed from pandas in a future version. Use pandas.concat instead.\n",
      "  id_df = df_mask.append(id_df,ignore_index=True)\n",
      "C:\\Users\\elpaem\\AppData\\Local\\Temp\\ipykernel_2412\\3243649304.py:12: FutureWarning: The frame.append method is deprecated and will be removed from pandas in a future version. Use pandas.concat instead.\n",
      "  id_df = df_mask.append(id_df,ignore_index=True)\n",
      "C:\\Users\\elpaem\\AppData\\Local\\Temp\\ipykernel_2412\\3243649304.py:12: FutureWarning: The frame.append method is deprecated and will be removed from pandas in a future version. Use pandas.concat instead.\n",
      "  id_df = df_mask.append(id_df,ignore_index=True)\n",
      "C:\\Users\\elpaem\\AppData\\Local\\Temp\\ipykernel_2412\\3243649304.py:12: FutureWarning: The frame.append method is deprecated and will be removed from pandas in a future version. Use pandas.concat instead.\n",
      "  id_df = df_mask.append(id_df,ignore_index=True)\n",
      "C:\\Users\\elpaem\\AppData\\Local\\Temp\\ipykernel_2412\\3243649304.py:12: FutureWarning: The frame.append method is deprecated and will be removed from pandas in a future version. Use pandas.concat instead.\n",
      "  id_df = df_mask.append(id_df,ignore_index=True)\n",
      "C:\\Users\\elpaem\\AppData\\Local\\Temp\\ipykernel_2412\\3243649304.py:12: FutureWarning: The frame.append method is deprecated and will be removed from pandas in a future version. Use pandas.concat instead.\n",
      "  id_df = df_mask.append(id_df,ignore_index=True)\n",
      "C:\\Users\\elpaem\\AppData\\Local\\Temp\\ipykernel_2412\\3243649304.py:12: FutureWarning: The frame.append method is deprecated and will be removed from pandas in a future version. Use pandas.concat instead.\n",
      "  id_df = df_mask.append(id_df,ignore_index=True)\n",
      "C:\\Users\\elpaem\\AppData\\Local\\Temp\\ipykernel_2412\\3243649304.py:12: FutureWarning: The frame.append method is deprecated and will be removed from pandas in a future version. Use pandas.concat instead.\n",
      "  id_df = df_mask.append(id_df,ignore_index=True)\n",
      "C:\\Users\\elpaem\\AppData\\Local\\Temp\\ipykernel_2412\\3243649304.py:12: FutureWarning: The frame.append method is deprecated and will be removed from pandas in a future version. Use pandas.concat instead.\n",
      "  id_df = df_mask.append(id_df,ignore_index=True)\n",
      "C:\\Users\\elpaem\\AppData\\Local\\Temp\\ipykernel_2412\\3243649304.py:12: FutureWarning: The frame.append method is deprecated and will be removed from pandas in a future version. Use pandas.concat instead.\n",
      "  id_df = df_mask.append(id_df,ignore_index=True)\n",
      "C:\\Users\\elpaem\\AppData\\Local\\Temp\\ipykernel_2412\\3243649304.py:12: FutureWarning: The frame.append method is deprecated and will be removed from pandas in a future version. Use pandas.concat instead.\n",
      "  id_df = df_mask.append(id_df,ignore_index=True)\n",
      "C:\\Users\\elpaem\\AppData\\Local\\Temp\\ipykernel_2412\\3243649304.py:12: FutureWarning: The frame.append method is deprecated and will be removed from pandas in a future version. Use pandas.concat instead.\n",
      "  id_df = df_mask.append(id_df,ignore_index=True)\n",
      "C:\\Users\\elpaem\\AppData\\Local\\Temp\\ipykernel_2412\\3243649304.py:12: FutureWarning: The frame.append method is deprecated and will be removed from pandas in a future version. Use pandas.concat instead.\n",
      "  id_df = df_mask.append(id_df,ignore_index=True)\n",
      "C:\\Users\\elpaem\\AppData\\Local\\Temp\\ipykernel_2412\\3243649304.py:12: FutureWarning: The frame.append method is deprecated and will be removed from pandas in a future version. Use pandas.concat instead.\n",
      "  id_df = df_mask.append(id_df,ignore_index=True)\n",
      "C:\\Users\\elpaem\\AppData\\Local\\Temp\\ipykernel_2412\\3243649304.py:12: FutureWarning: The frame.append method is deprecated and will be removed from pandas in a future version. Use pandas.concat instead.\n",
      "  id_df = df_mask.append(id_df,ignore_index=True)\n",
      "C:\\Users\\elpaem\\AppData\\Local\\Temp\\ipykernel_2412\\3243649304.py:12: FutureWarning: The frame.append method is deprecated and will be removed from pandas in a future version. Use pandas.concat instead.\n",
      "  id_df = df_mask.append(id_df,ignore_index=True)\n",
      "C:\\Users\\elpaem\\AppData\\Local\\Temp\\ipykernel_2412\\3243649304.py:12: FutureWarning: The frame.append method is deprecated and will be removed from pandas in a future version. Use pandas.concat instead.\n",
      "  id_df = df_mask.append(id_df,ignore_index=True)\n",
      "C:\\Users\\elpaem\\AppData\\Local\\Temp\\ipykernel_2412\\3243649304.py:12: FutureWarning: The frame.append method is deprecated and will be removed from pandas in a future version. Use pandas.concat instead.\n",
      "  id_df = df_mask.append(id_df,ignore_index=True)\n",
      "C:\\Users\\elpaem\\AppData\\Local\\Temp\\ipykernel_2412\\3243649304.py:12: FutureWarning: The frame.append method is deprecated and will be removed from pandas in a future version. Use pandas.concat instead.\n",
      "  id_df = df_mask.append(id_df,ignore_index=True)\n",
      "C:\\Users\\elpaem\\AppData\\Local\\Temp\\ipykernel_2412\\3243649304.py:12: FutureWarning: The frame.append method is deprecated and will be removed from pandas in a future version. Use pandas.concat instead.\n",
      "  id_df = df_mask.append(id_df,ignore_index=True)\n",
      "C:\\Users\\elpaem\\AppData\\Local\\Temp\\ipykernel_2412\\3243649304.py:12: FutureWarning: The frame.append method is deprecated and will be removed from pandas in a future version. Use pandas.concat instead.\n",
      "  id_df = df_mask.append(id_df,ignore_index=True)\n",
      "C:\\Users\\elpaem\\AppData\\Local\\Temp\\ipykernel_2412\\3243649304.py:12: FutureWarning: The frame.append method is deprecated and will be removed from pandas in a future version. Use pandas.concat instead.\n",
      "  id_df = df_mask.append(id_df,ignore_index=True)\n",
      "C:\\Users\\elpaem\\AppData\\Local\\Temp\\ipykernel_2412\\3243649304.py:12: FutureWarning: The frame.append method is deprecated and will be removed from pandas in a future version. Use pandas.concat instead.\n",
      "  id_df = df_mask.append(id_df,ignore_index=True)\n",
      "C:\\Users\\elpaem\\AppData\\Local\\Temp\\ipykernel_2412\\3243649304.py:12: FutureWarning: The frame.append method is deprecated and will be removed from pandas in a future version. Use pandas.concat instead.\n",
      "  id_df = df_mask.append(id_df,ignore_index=True)\n",
      "C:\\Users\\elpaem\\AppData\\Local\\Temp\\ipykernel_2412\\3243649304.py:12: FutureWarning: The frame.append method is deprecated and will be removed from pandas in a future version. Use pandas.concat instead.\n",
      "  id_df = df_mask.append(id_df,ignore_index=True)\n",
      "C:\\Users\\elpaem\\AppData\\Local\\Temp\\ipykernel_2412\\3243649304.py:12: FutureWarning: The frame.append method is deprecated and will be removed from pandas in a future version. Use pandas.concat instead.\n",
      "  id_df = df_mask.append(id_df,ignore_index=True)\n",
      "C:\\Users\\elpaem\\AppData\\Local\\Temp\\ipykernel_2412\\3243649304.py:12: FutureWarning: The frame.append method is deprecated and will be removed from pandas in a future version. Use pandas.concat instead.\n",
      "  id_df = df_mask.append(id_df,ignore_index=True)\n",
      "C:\\Users\\elpaem\\AppData\\Local\\Temp\\ipykernel_2412\\3243649304.py:12: FutureWarning: The frame.append method is deprecated and will be removed from pandas in a future version. Use pandas.concat instead.\n",
      "  id_df = df_mask.append(id_df,ignore_index=True)\n",
      "C:\\Users\\elpaem\\AppData\\Local\\Temp\\ipykernel_2412\\3243649304.py:12: FutureWarning: The frame.append method is deprecated and will be removed from pandas in a future version. Use pandas.concat instead.\n",
      "  id_df = df_mask.append(id_df,ignore_index=True)\n",
      "C:\\Users\\elpaem\\AppData\\Local\\Temp\\ipykernel_2412\\3243649304.py:12: FutureWarning: The frame.append method is deprecated and will be removed from pandas in a future version. Use pandas.concat instead.\n",
      "  id_df = df_mask.append(id_df,ignore_index=True)\n",
      "C:\\Users\\elpaem\\AppData\\Local\\Temp\\ipykernel_2412\\3243649304.py:12: FutureWarning: The frame.append method is deprecated and will be removed from pandas in a future version. Use pandas.concat instead.\n",
      "  id_df = df_mask.append(id_df,ignore_index=True)\n",
      "C:\\Users\\elpaem\\AppData\\Local\\Temp\\ipykernel_2412\\3243649304.py:12: FutureWarning: The frame.append method is deprecated and will be removed from pandas in a future version. Use pandas.concat instead.\n",
      "  id_df = df_mask.append(id_df,ignore_index=True)\n",
      "C:\\Users\\elpaem\\AppData\\Local\\Temp\\ipykernel_2412\\3243649304.py:12: FutureWarning: The frame.append method is deprecated and will be removed from pandas in a future version. Use pandas.concat instead.\n",
      "  id_df = df_mask.append(id_df,ignore_index=True)\n",
      "C:\\Users\\elpaem\\AppData\\Local\\Temp\\ipykernel_2412\\3243649304.py:12: FutureWarning: The frame.append method is deprecated and will be removed from pandas in a future version. Use pandas.concat instead.\n",
      "  id_df = df_mask.append(id_df,ignore_index=True)\n",
      "C:\\Users\\elpaem\\AppData\\Local\\Temp\\ipykernel_2412\\3243649304.py:12: FutureWarning: The frame.append method is deprecated and will be removed from pandas in a future version. Use pandas.concat instead.\n",
      "  id_df = df_mask.append(id_df,ignore_index=True)\n",
      "C:\\Users\\elpaem\\AppData\\Local\\Temp\\ipykernel_2412\\3243649304.py:12: FutureWarning: The frame.append method is deprecated and will be removed from pandas in a future version. Use pandas.concat instead.\n",
      "  id_df = df_mask.append(id_df,ignore_index=True)\n",
      "C:\\Users\\elpaem\\AppData\\Local\\Temp\\ipykernel_2412\\3243649304.py:12: FutureWarning: The frame.append method is deprecated and will be removed from pandas in a future version. Use pandas.concat instead.\n",
      "  id_df = df_mask.append(id_df,ignore_index=True)\n",
      "C:\\Users\\elpaem\\AppData\\Local\\Temp\\ipykernel_2412\\3243649304.py:12: FutureWarning: The frame.append method is deprecated and will be removed from pandas in a future version. Use pandas.concat instead.\n",
      "  id_df = df_mask.append(id_df,ignore_index=True)\n",
      "C:\\Users\\elpaem\\AppData\\Local\\Temp\\ipykernel_2412\\3243649304.py:12: FutureWarning: The frame.append method is deprecated and will be removed from pandas in a future version. Use pandas.concat instead.\n",
      "  id_df = df_mask.append(id_df,ignore_index=True)\n",
      "C:\\Users\\elpaem\\AppData\\Local\\Temp\\ipykernel_2412\\3243649304.py:12: FutureWarning: The frame.append method is deprecated and will be removed from pandas in a future version. Use pandas.concat instead.\n",
      "  id_df = df_mask.append(id_df,ignore_index=True)\n",
      "C:\\Users\\elpaem\\AppData\\Local\\Temp\\ipykernel_2412\\3243649304.py:12: FutureWarning: The frame.append method is deprecated and will be removed from pandas in a future version. Use pandas.concat instead.\n",
      "  id_df = df_mask.append(id_df,ignore_index=True)\n",
      "C:\\Users\\elpaem\\AppData\\Local\\Temp\\ipykernel_2412\\3243649304.py:12: FutureWarning: The frame.append method is deprecated and will be removed from pandas in a future version. Use pandas.concat instead.\n",
      "  id_df = df_mask.append(id_df,ignore_index=True)\n",
      "C:\\Users\\elpaem\\AppData\\Local\\Temp\\ipykernel_2412\\3243649304.py:12: FutureWarning: The frame.append method is deprecated and will be removed from pandas in a future version. Use pandas.concat instead.\n",
      "  id_df = df_mask.append(id_df,ignore_index=True)\n",
      "C:\\Users\\elpaem\\AppData\\Local\\Temp\\ipykernel_2412\\3243649304.py:12: FutureWarning: The frame.append method is deprecated and will be removed from pandas in a future version. Use pandas.concat instead.\n",
      "  id_df = df_mask.append(id_df,ignore_index=True)\n",
      "C:\\Users\\elpaem\\AppData\\Local\\Temp\\ipykernel_2412\\3243649304.py:12: FutureWarning: The frame.append method is deprecated and will be removed from pandas in a future version. Use pandas.concat instead.\n",
      "  id_df = df_mask.append(id_df,ignore_index=True)\n",
      "C:\\Users\\elpaem\\AppData\\Local\\Temp\\ipykernel_2412\\3243649304.py:12: FutureWarning: The frame.append method is deprecated and will be removed from pandas in a future version. Use pandas.concat instead.\n",
      "  id_df = df_mask.append(id_df,ignore_index=True)\n",
      "C:\\Users\\elpaem\\AppData\\Local\\Temp\\ipykernel_2412\\3243649304.py:12: FutureWarning: The frame.append method is deprecated and will be removed from pandas in a future version. Use pandas.concat instead.\n",
      "  id_df = df_mask.append(id_df,ignore_index=True)\n",
      "C:\\Users\\elpaem\\AppData\\Local\\Temp\\ipykernel_2412\\3243649304.py:12: FutureWarning: The frame.append method is deprecated and will be removed from pandas in a future version. Use pandas.concat instead.\n",
      "  id_df = df_mask.append(id_df,ignore_index=True)\n",
      "C:\\Users\\elpaem\\AppData\\Local\\Temp\\ipykernel_2412\\3243649304.py:12: FutureWarning: The frame.append method is deprecated and will be removed from pandas in a future version. Use pandas.concat instead.\n",
      "  id_df = df_mask.append(id_df,ignore_index=True)\n",
      "C:\\Users\\elpaem\\AppData\\Local\\Temp\\ipykernel_2412\\3243649304.py:12: FutureWarning: The frame.append method is deprecated and will be removed from pandas in a future version. Use pandas.concat instead.\n",
      "  id_df = df_mask.append(id_df,ignore_index=True)\n",
      "C:\\Users\\elpaem\\AppData\\Local\\Temp\\ipykernel_2412\\3243649304.py:12: FutureWarning: The frame.append method is deprecated and will be removed from pandas in a future version. Use pandas.concat instead.\n",
      "  id_df = df_mask.append(id_df,ignore_index=True)\n",
      "C:\\Users\\elpaem\\AppData\\Local\\Temp\\ipykernel_2412\\3243649304.py:12: FutureWarning: The frame.append method is deprecated and will be removed from pandas in a future version. Use pandas.concat instead.\n",
      "  id_df = df_mask.append(id_df,ignore_index=True)\n",
      "C:\\Users\\elpaem\\AppData\\Local\\Temp\\ipykernel_2412\\3243649304.py:12: FutureWarning: The frame.append method is deprecated and will be removed from pandas in a future version. Use pandas.concat instead.\n",
      "  id_df = df_mask.append(id_df,ignore_index=True)\n",
      "C:\\Users\\elpaem\\AppData\\Local\\Temp\\ipykernel_2412\\3243649304.py:12: FutureWarning: The frame.append method is deprecated and will be removed from pandas in a future version. Use pandas.concat instead.\n",
      "  id_df = df_mask.append(id_df,ignore_index=True)\n",
      "C:\\Users\\elpaem\\AppData\\Local\\Temp\\ipykernel_2412\\3243649304.py:12: FutureWarning: The frame.append method is deprecated and will be removed from pandas in a future version. Use pandas.concat instead.\n",
      "  id_df = df_mask.append(id_df,ignore_index=True)\n",
      "C:\\Users\\elpaem\\AppData\\Local\\Temp\\ipykernel_2412\\3243649304.py:12: FutureWarning: The frame.append method is deprecated and will be removed from pandas in a future version. Use pandas.concat instead.\n",
      "  id_df = df_mask.append(id_df,ignore_index=True)\n",
      "C:\\Users\\elpaem\\AppData\\Local\\Temp\\ipykernel_2412\\3243649304.py:12: FutureWarning: The frame.append method is deprecated and will be removed from pandas in a future version. Use pandas.concat instead.\n",
      "  id_df = df_mask.append(id_df,ignore_index=True)\n",
      "C:\\Users\\elpaem\\AppData\\Local\\Temp\\ipykernel_2412\\3243649304.py:12: FutureWarning: The frame.append method is deprecated and will be removed from pandas in a future version. Use pandas.concat instead.\n",
      "  id_df = df_mask.append(id_df,ignore_index=True)\n",
      "C:\\Users\\elpaem\\AppData\\Local\\Temp\\ipykernel_2412\\3243649304.py:12: FutureWarning: The frame.append method is deprecated and will be removed from pandas in a future version. Use pandas.concat instead.\n",
      "  id_df = df_mask.append(id_df,ignore_index=True)\n",
      "C:\\Users\\elpaem\\AppData\\Local\\Temp\\ipykernel_2412\\3243649304.py:12: FutureWarning: The frame.append method is deprecated and will be removed from pandas in a future version. Use pandas.concat instead.\n",
      "  id_df = df_mask.append(id_df,ignore_index=True)\n",
      "C:\\Users\\elpaem\\AppData\\Local\\Temp\\ipykernel_2412\\3243649304.py:12: FutureWarning: The frame.append method is deprecated and will be removed from pandas in a future version. Use pandas.concat instead.\n",
      "  id_df = df_mask.append(id_df,ignore_index=True)\n",
      "C:\\Users\\elpaem\\AppData\\Local\\Temp\\ipykernel_2412\\3243649304.py:12: FutureWarning: The frame.append method is deprecated and will be removed from pandas in a future version. Use pandas.concat instead.\n",
      "  id_df = df_mask.append(id_df,ignore_index=True)\n",
      "C:\\Users\\elpaem\\AppData\\Local\\Temp\\ipykernel_2412\\3243649304.py:12: FutureWarning: The frame.append method is deprecated and will be removed from pandas in a future version. Use pandas.concat instead.\n",
      "  id_df = df_mask.append(id_df,ignore_index=True)\n",
      "C:\\Users\\elpaem\\AppData\\Local\\Temp\\ipykernel_2412\\3243649304.py:12: FutureWarning: The frame.append method is deprecated and will be removed from pandas in a future version. Use pandas.concat instead.\n",
      "  id_df = df_mask.append(id_df,ignore_index=True)\n",
      "C:\\Users\\elpaem\\AppData\\Local\\Temp\\ipykernel_2412\\3243649304.py:12: FutureWarning: The frame.append method is deprecated and will be removed from pandas in a future version. Use pandas.concat instead.\n",
      "  id_df = df_mask.append(id_df,ignore_index=True)\n",
      "C:\\Users\\elpaem\\AppData\\Local\\Temp\\ipykernel_2412\\3243649304.py:12: FutureWarning: The frame.append method is deprecated and will be removed from pandas in a future version. Use pandas.concat instead.\n",
      "  id_df = df_mask.append(id_df,ignore_index=True)\n",
      "C:\\Users\\elpaem\\AppData\\Local\\Temp\\ipykernel_2412\\3243649304.py:12: FutureWarning: The frame.append method is deprecated and will be removed from pandas in a future version. Use pandas.concat instead.\n",
      "  id_df = df_mask.append(id_df,ignore_index=True)\n",
      "C:\\Users\\elpaem\\AppData\\Local\\Temp\\ipykernel_2412\\3243649304.py:12: FutureWarning: The frame.append method is deprecated and will be removed from pandas in a future version. Use pandas.concat instead.\n",
      "  id_df = df_mask.append(id_df,ignore_index=True)\n",
      "C:\\Users\\elpaem\\AppData\\Local\\Temp\\ipykernel_2412\\3243649304.py:12: FutureWarning: The frame.append method is deprecated and will be removed from pandas in a future version. Use pandas.concat instead.\n",
      "  id_df = df_mask.append(id_df,ignore_index=True)\n",
      "C:\\Users\\elpaem\\AppData\\Local\\Temp\\ipykernel_2412\\3243649304.py:12: FutureWarning: The frame.append method is deprecated and will be removed from pandas in a future version. Use pandas.concat instead.\n",
      "  id_df = df_mask.append(id_df,ignore_index=True)\n",
      "C:\\Users\\elpaem\\AppData\\Local\\Temp\\ipykernel_2412\\3243649304.py:12: FutureWarning: The frame.append method is deprecated and will be removed from pandas in a future version. Use pandas.concat instead.\n",
      "  id_df = df_mask.append(id_df,ignore_index=True)\n",
      "C:\\Users\\elpaem\\AppData\\Local\\Temp\\ipykernel_2412\\3243649304.py:12: FutureWarning: The frame.append method is deprecated and will be removed from pandas in a future version. Use pandas.concat instead.\n",
      "  id_df = df_mask.append(id_df,ignore_index=True)\n",
      "C:\\Users\\elpaem\\AppData\\Local\\Temp\\ipykernel_2412\\3243649304.py:12: FutureWarning: The frame.append method is deprecated and will be removed from pandas in a future version. Use pandas.concat instead.\n",
      "  id_df = df_mask.append(id_df,ignore_index=True)\n",
      "C:\\Users\\elpaem\\AppData\\Local\\Temp\\ipykernel_2412\\3243649304.py:12: FutureWarning: The frame.append method is deprecated and will be removed from pandas in a future version. Use pandas.concat instead.\n",
      "  id_df = df_mask.append(id_df,ignore_index=True)\n",
      "C:\\Users\\elpaem\\AppData\\Local\\Temp\\ipykernel_2412\\3243649304.py:12: FutureWarning: The frame.append method is deprecated and will be removed from pandas in a future version. Use pandas.concat instead.\n",
      "  id_df = df_mask.append(id_df,ignore_index=True)\n",
      "C:\\Users\\elpaem\\AppData\\Local\\Temp\\ipykernel_2412\\3243649304.py:12: FutureWarning: The frame.append method is deprecated and will be removed from pandas in a future version. Use pandas.concat instead.\n",
      "  id_df = df_mask.append(id_df,ignore_index=True)\n",
      "C:\\Users\\elpaem\\AppData\\Local\\Temp\\ipykernel_2412\\3243649304.py:12: FutureWarning: The frame.append method is deprecated and will be removed from pandas in a future version. Use pandas.concat instead.\n",
      "  id_df = df_mask.append(id_df,ignore_index=True)\n",
      "C:\\Users\\elpaem\\AppData\\Local\\Temp\\ipykernel_2412\\3243649304.py:12: FutureWarning: The frame.append method is deprecated and will be removed from pandas in a future version. Use pandas.concat instead.\n",
      "  id_df = df_mask.append(id_df,ignore_index=True)\n",
      "C:\\Users\\elpaem\\AppData\\Local\\Temp\\ipykernel_2412\\3243649304.py:12: FutureWarning: The frame.append method is deprecated and will be removed from pandas in a future version. Use pandas.concat instead.\n",
      "  id_df = df_mask.append(id_df,ignore_index=True)\n",
      "C:\\Users\\elpaem\\AppData\\Local\\Temp\\ipykernel_2412\\3243649304.py:12: FutureWarning: The frame.append method is deprecated and will be removed from pandas in a future version. Use pandas.concat instead.\n",
      "  id_df = df_mask.append(id_df,ignore_index=True)\n",
      "C:\\Users\\elpaem\\AppData\\Local\\Temp\\ipykernel_2412\\3243649304.py:12: FutureWarning: The frame.append method is deprecated and will be removed from pandas in a future version. Use pandas.concat instead.\n",
      "  id_df = df_mask.append(id_df,ignore_index=True)\n",
      "C:\\Users\\elpaem\\AppData\\Local\\Temp\\ipykernel_2412\\3243649304.py:12: FutureWarning: The frame.append method is deprecated and will be removed from pandas in a future version. Use pandas.concat instead.\n",
      "  id_df = df_mask.append(id_df,ignore_index=True)\n",
      "C:\\Users\\elpaem\\AppData\\Local\\Temp\\ipykernel_2412\\3243649304.py:12: FutureWarning: The frame.append method is deprecated and will be removed from pandas in a future version. Use pandas.concat instead.\n",
      "  id_df = df_mask.append(id_df,ignore_index=True)\n",
      "C:\\Users\\elpaem\\AppData\\Local\\Temp\\ipykernel_2412\\3243649304.py:12: FutureWarning: The frame.append method is deprecated and will be removed from pandas in a future version. Use pandas.concat instead.\n",
      "  id_df = df_mask.append(id_df,ignore_index=True)\n",
      "C:\\Users\\elpaem\\AppData\\Local\\Temp\\ipykernel_2412\\3243649304.py:12: FutureWarning: The frame.append method is deprecated and will be removed from pandas in a future version. Use pandas.concat instead.\n",
      "  id_df = df_mask.append(id_df,ignore_index=True)\n",
      "C:\\Users\\elpaem\\AppData\\Local\\Temp\\ipykernel_2412\\3243649304.py:12: FutureWarning: The frame.append method is deprecated and will be removed from pandas in a future version. Use pandas.concat instead.\n",
      "  id_df = df_mask.append(id_df,ignore_index=True)\n",
      "C:\\Users\\elpaem\\AppData\\Local\\Temp\\ipykernel_2412\\3243649304.py:12: FutureWarning: The frame.append method is deprecated and will be removed from pandas in a future version. Use pandas.concat instead.\n",
      "  id_df = df_mask.append(id_df,ignore_index=True)\n",
      "C:\\Users\\elpaem\\AppData\\Local\\Temp\\ipykernel_2412\\3243649304.py:12: FutureWarning: The frame.append method is deprecated and will be removed from pandas in a future version. Use pandas.concat instead.\n",
      "  id_df = df_mask.append(id_df,ignore_index=True)\n",
      "C:\\Users\\elpaem\\AppData\\Local\\Temp\\ipykernel_2412\\3243649304.py:12: FutureWarning: The frame.append method is deprecated and will be removed from pandas in a future version. Use pandas.concat instead.\n",
      "  id_df = df_mask.append(id_df,ignore_index=True)\n",
      "C:\\Users\\elpaem\\AppData\\Local\\Temp\\ipykernel_2412\\3243649304.py:12: FutureWarning: The frame.append method is deprecated and will be removed from pandas in a future version. Use pandas.concat instead.\n",
      "  id_df = df_mask.append(id_df,ignore_index=True)\n",
      "C:\\Users\\elpaem\\AppData\\Local\\Temp\\ipykernel_2412\\3243649304.py:12: FutureWarning: The frame.append method is deprecated and will be removed from pandas in a future version. Use pandas.concat instead.\n",
      "  id_df = df_mask.append(id_df,ignore_index=True)\n",
      "C:\\Users\\elpaem\\AppData\\Local\\Temp\\ipykernel_2412\\3243649304.py:12: FutureWarning: The frame.append method is deprecated and will be removed from pandas in a future version. Use pandas.concat instead.\n",
      "  id_df = df_mask.append(id_df,ignore_index=True)\n",
      "C:\\Users\\elpaem\\AppData\\Local\\Temp\\ipykernel_2412\\3243649304.py:12: FutureWarning: The frame.append method is deprecated and will be removed from pandas in a future version. Use pandas.concat instead.\n",
      "  id_df = df_mask.append(id_df,ignore_index=True)\n",
      "C:\\Users\\elpaem\\AppData\\Local\\Temp\\ipykernel_2412\\3243649304.py:12: FutureWarning: The frame.append method is deprecated and will be removed from pandas in a future version. Use pandas.concat instead.\n",
      "  id_df = df_mask.append(id_df,ignore_index=True)\n",
      "C:\\Users\\elpaem\\AppData\\Local\\Temp\\ipykernel_2412\\3243649304.py:12: FutureWarning: The frame.append method is deprecated and will be removed from pandas in a future version. Use pandas.concat instead.\n",
      "  id_df = df_mask.append(id_df,ignore_index=True)\n",
      "C:\\Users\\elpaem\\AppData\\Local\\Temp\\ipykernel_2412\\3243649304.py:12: FutureWarning: The frame.append method is deprecated and will be removed from pandas in a future version. Use pandas.concat instead.\n",
      "  id_df = df_mask.append(id_df,ignore_index=True)\n",
      "C:\\Users\\elpaem\\AppData\\Local\\Temp\\ipykernel_2412\\3243649304.py:12: FutureWarning: The frame.append method is deprecated and will be removed from pandas in a future version. Use pandas.concat instead.\n",
      "  id_df = df_mask.append(id_df,ignore_index=True)\n",
      "C:\\Users\\elpaem\\AppData\\Local\\Temp\\ipykernel_2412\\3243649304.py:12: FutureWarning: The frame.append method is deprecated and will be removed from pandas in a future version. Use pandas.concat instead.\n",
      "  id_df = df_mask.append(id_df,ignore_index=True)\n",
      "C:\\Users\\elpaem\\AppData\\Local\\Temp\\ipykernel_2412\\3243649304.py:12: FutureWarning: The frame.append method is deprecated and will be removed from pandas in a future version. Use pandas.concat instead.\n",
      "  id_df = df_mask.append(id_df,ignore_index=True)\n",
      "C:\\Users\\elpaem\\AppData\\Local\\Temp\\ipykernel_2412\\3243649304.py:12: FutureWarning: The frame.append method is deprecated and will be removed from pandas in a future version. Use pandas.concat instead.\n",
      "  id_df = df_mask.append(id_df,ignore_index=True)\n",
      "C:\\Users\\elpaem\\AppData\\Local\\Temp\\ipykernel_2412\\3243649304.py:12: FutureWarning: The frame.append method is deprecated and will be removed from pandas in a future version. Use pandas.concat instead.\n",
      "  id_df = df_mask.append(id_df,ignore_index=True)\n",
      "C:\\Users\\elpaem\\AppData\\Local\\Temp\\ipykernel_2412\\3243649304.py:12: FutureWarning: The frame.append method is deprecated and will be removed from pandas in a future version. Use pandas.concat instead.\n",
      "  id_df = df_mask.append(id_df,ignore_index=True)\n",
      "C:\\Users\\elpaem\\AppData\\Local\\Temp\\ipykernel_2412\\3243649304.py:12: FutureWarning: The frame.append method is deprecated and will be removed from pandas in a future version. Use pandas.concat instead.\n",
      "  id_df = df_mask.append(id_df,ignore_index=True)\n",
      "C:\\Users\\elpaem\\AppData\\Local\\Temp\\ipykernel_2412\\3243649304.py:12: FutureWarning: The frame.append method is deprecated and will be removed from pandas in a future version. Use pandas.concat instead.\n",
      "  id_df = df_mask.append(id_df,ignore_index=True)\n",
      "C:\\Users\\elpaem\\AppData\\Local\\Temp\\ipykernel_2412\\3243649304.py:12: FutureWarning: The frame.append method is deprecated and will be removed from pandas in a future version. Use pandas.concat instead.\n",
      "  id_df = df_mask.append(id_df,ignore_index=True)\n",
      "C:\\Users\\elpaem\\AppData\\Local\\Temp\\ipykernel_2412\\3243649304.py:12: FutureWarning: The frame.append method is deprecated and will be removed from pandas in a future version. Use pandas.concat instead.\n",
      "  id_df = df_mask.append(id_df,ignore_index=True)\n",
      "C:\\Users\\elpaem\\AppData\\Local\\Temp\\ipykernel_2412\\3243649304.py:12: FutureWarning: The frame.append method is deprecated and will be removed from pandas in a future version. Use pandas.concat instead.\n",
      "  id_df = df_mask.append(id_df,ignore_index=True)\n",
      "C:\\Users\\elpaem\\AppData\\Local\\Temp\\ipykernel_2412\\3243649304.py:12: FutureWarning: The frame.append method is deprecated and will be removed from pandas in a future version. Use pandas.concat instead.\n",
      "  id_df = df_mask.append(id_df,ignore_index=True)\n",
      "C:\\Users\\elpaem\\AppData\\Local\\Temp\\ipykernel_2412\\3243649304.py:12: FutureWarning: The frame.append method is deprecated and will be removed from pandas in a future version. Use pandas.concat instead.\n",
      "  id_df = df_mask.append(id_df,ignore_index=True)\n",
      "C:\\Users\\elpaem\\AppData\\Local\\Temp\\ipykernel_2412\\3243649304.py:12: FutureWarning: The frame.append method is deprecated and will be removed from pandas in a future version. Use pandas.concat instead.\n",
      "  id_df = df_mask.append(id_df,ignore_index=True)\n",
      "C:\\Users\\elpaem\\AppData\\Local\\Temp\\ipykernel_2412\\3243649304.py:12: FutureWarning: The frame.append method is deprecated and will be removed from pandas in a future version. Use pandas.concat instead.\n",
      "  id_df = df_mask.append(id_df,ignore_index=True)\n",
      "C:\\Users\\elpaem\\AppData\\Local\\Temp\\ipykernel_2412\\3243649304.py:12: FutureWarning: The frame.append method is deprecated and will be removed from pandas in a future version. Use pandas.concat instead.\n",
      "  id_df = df_mask.append(id_df,ignore_index=True)\n",
      "C:\\Users\\elpaem\\AppData\\Local\\Temp\\ipykernel_2412\\3243649304.py:12: FutureWarning: The frame.append method is deprecated and will be removed from pandas in a future version. Use pandas.concat instead.\n",
      "  id_df = df_mask.append(id_df,ignore_index=True)\n",
      "C:\\Users\\elpaem\\AppData\\Local\\Temp\\ipykernel_2412\\3243649304.py:12: FutureWarning: The frame.append method is deprecated and will be removed from pandas in a future version. Use pandas.concat instead.\n",
      "  id_df = df_mask.append(id_df,ignore_index=True)\n",
      "C:\\Users\\elpaem\\AppData\\Local\\Temp\\ipykernel_2412\\3243649304.py:12: FutureWarning: The frame.append method is deprecated and will be removed from pandas in a future version. Use pandas.concat instead.\n",
      "  id_df = df_mask.append(id_df,ignore_index=True)\n",
      "C:\\Users\\elpaem\\AppData\\Local\\Temp\\ipykernel_2412\\3243649304.py:12: FutureWarning: The frame.append method is deprecated and will be removed from pandas in a future version. Use pandas.concat instead.\n",
      "  id_df = df_mask.append(id_df,ignore_index=True)\n",
      "C:\\Users\\elpaem\\AppData\\Local\\Temp\\ipykernel_2412\\3243649304.py:12: FutureWarning: The frame.append method is deprecated and will be removed from pandas in a future version. Use pandas.concat instead.\n",
      "  id_df = df_mask.append(id_df,ignore_index=True)\n",
      "C:\\Users\\elpaem\\AppData\\Local\\Temp\\ipykernel_2412\\3243649304.py:12: FutureWarning: The frame.append method is deprecated and will be removed from pandas in a future version. Use pandas.concat instead.\n",
      "  id_df = df_mask.append(id_df,ignore_index=True)\n",
      "C:\\Users\\elpaem\\AppData\\Local\\Temp\\ipykernel_2412\\3243649304.py:12: FutureWarning: The frame.append method is deprecated and will be removed from pandas in a future version. Use pandas.concat instead.\n",
      "  id_df = df_mask.append(id_df,ignore_index=True)\n",
      "C:\\Users\\elpaem\\AppData\\Local\\Temp\\ipykernel_2412\\3243649304.py:12: FutureWarning: The frame.append method is deprecated and will be removed from pandas in a future version. Use pandas.concat instead.\n",
      "  id_df = df_mask.append(id_df,ignore_index=True)\n",
      "C:\\Users\\elpaem\\AppData\\Local\\Temp\\ipykernel_2412\\3243649304.py:12: FutureWarning: The frame.append method is deprecated and will be removed from pandas in a future version. Use pandas.concat instead.\n",
      "  id_df = df_mask.append(id_df,ignore_index=True)\n",
      "C:\\Users\\elpaem\\AppData\\Local\\Temp\\ipykernel_2412\\3243649304.py:12: FutureWarning: The frame.append method is deprecated and will be removed from pandas in a future version. Use pandas.concat instead.\n",
      "  id_df = df_mask.append(id_df,ignore_index=True)\n",
      "C:\\Users\\elpaem\\AppData\\Local\\Temp\\ipykernel_2412\\3243649304.py:12: FutureWarning: The frame.append method is deprecated and will be removed from pandas in a future version. Use pandas.concat instead.\n",
      "  id_df = df_mask.append(id_df,ignore_index=True)\n",
      "C:\\Users\\elpaem\\AppData\\Local\\Temp\\ipykernel_2412\\3243649304.py:12: FutureWarning: The frame.append method is deprecated and will be removed from pandas in a future version. Use pandas.concat instead.\n",
      "  id_df = df_mask.append(id_df,ignore_index=True)\n",
      "C:\\Users\\elpaem\\AppData\\Local\\Temp\\ipykernel_2412\\3243649304.py:12: FutureWarning: The frame.append method is deprecated and will be removed from pandas in a future version. Use pandas.concat instead.\n",
      "  id_df = df_mask.append(id_df,ignore_index=True)\n",
      "C:\\Users\\elpaem\\AppData\\Local\\Temp\\ipykernel_2412\\3243649304.py:12: FutureWarning: The frame.append method is deprecated and will be removed from pandas in a future version. Use pandas.concat instead.\n",
      "  id_df = df_mask.append(id_df,ignore_index=True)\n",
      "C:\\Users\\elpaem\\AppData\\Local\\Temp\\ipykernel_2412\\3243649304.py:12: FutureWarning: The frame.append method is deprecated and will be removed from pandas in a future version. Use pandas.concat instead.\n",
      "  id_df = df_mask.append(id_df,ignore_index=True)\n",
      "C:\\Users\\elpaem\\AppData\\Local\\Temp\\ipykernel_2412\\3243649304.py:12: FutureWarning: The frame.append method is deprecated and will be removed from pandas in a future version. Use pandas.concat instead.\n",
      "  id_df = df_mask.append(id_df,ignore_index=True)\n",
      "C:\\Users\\elpaem\\AppData\\Local\\Temp\\ipykernel_2412\\3243649304.py:12: FutureWarning: The frame.append method is deprecated and will be removed from pandas in a future version. Use pandas.concat instead.\n",
      "  id_df = df_mask.append(id_df,ignore_index=True)\n",
      "C:\\Users\\elpaem\\AppData\\Local\\Temp\\ipykernel_2412\\3243649304.py:12: FutureWarning: The frame.append method is deprecated and will be removed from pandas in a future version. Use pandas.concat instead.\n",
      "  id_df = df_mask.append(id_df,ignore_index=True)\n",
      "C:\\Users\\elpaem\\AppData\\Local\\Temp\\ipykernel_2412\\3243649304.py:12: FutureWarning: The frame.append method is deprecated and will be removed from pandas in a future version. Use pandas.concat instead.\n",
      "  id_df = df_mask.append(id_df,ignore_index=True)\n",
      "C:\\Users\\elpaem\\AppData\\Local\\Temp\\ipykernel_2412\\3243649304.py:12: FutureWarning: The frame.append method is deprecated and will be removed from pandas in a future version. Use pandas.concat instead.\n",
      "  id_df = df_mask.append(id_df,ignore_index=True)\n",
      "C:\\Users\\elpaem\\AppData\\Local\\Temp\\ipykernel_2412\\3243649304.py:12: FutureWarning: The frame.append method is deprecated and will be removed from pandas in a future version. Use pandas.concat instead.\n",
      "  id_df = df_mask.append(id_df,ignore_index=True)\n",
      "C:\\Users\\elpaem\\AppData\\Local\\Temp\\ipykernel_2412\\3243649304.py:12: FutureWarning: The frame.append method is deprecated and will be removed from pandas in a future version. Use pandas.concat instead.\n",
      "  id_df = df_mask.append(id_df,ignore_index=True)\n",
      "C:\\Users\\elpaem\\AppData\\Local\\Temp\\ipykernel_2412\\3243649304.py:12: FutureWarning: The frame.append method is deprecated and will be removed from pandas in a future version. Use pandas.concat instead.\n",
      "  id_df = df_mask.append(id_df,ignore_index=True)\n",
      "C:\\Users\\elpaem\\AppData\\Local\\Temp\\ipykernel_2412\\3243649304.py:12: FutureWarning: The frame.append method is deprecated and will be removed from pandas in a future version. Use pandas.concat instead.\n",
      "  id_df = df_mask.append(id_df,ignore_index=True)\n",
      "C:\\Users\\elpaem\\AppData\\Local\\Temp\\ipykernel_2412\\3243649304.py:12: FutureWarning: The frame.append method is deprecated and will be removed from pandas in a future version. Use pandas.concat instead.\n",
      "  id_df = df_mask.append(id_df,ignore_index=True)\n",
      "C:\\Users\\elpaem\\AppData\\Local\\Temp\\ipykernel_2412\\3243649304.py:12: FutureWarning: The frame.append method is deprecated and will be removed from pandas in a future version. Use pandas.concat instead.\n",
      "  id_df = df_mask.append(id_df,ignore_index=True)\n",
      "C:\\Users\\elpaem\\AppData\\Local\\Temp\\ipykernel_2412\\3243649304.py:12: FutureWarning: The frame.append method is deprecated and will be removed from pandas in a future version. Use pandas.concat instead.\n",
      "  id_df = df_mask.append(id_df,ignore_index=True)\n",
      "C:\\Users\\elpaem\\AppData\\Local\\Temp\\ipykernel_2412\\3243649304.py:12: FutureWarning: The frame.append method is deprecated and will be removed from pandas in a future version. Use pandas.concat instead.\n",
      "  id_df = df_mask.append(id_df,ignore_index=True)\n",
      "C:\\Users\\elpaem\\AppData\\Local\\Temp\\ipykernel_2412\\3243649304.py:12: FutureWarning: The frame.append method is deprecated and will be removed from pandas in a future version. Use pandas.concat instead.\n",
      "  id_df = df_mask.append(id_df,ignore_index=True)\n",
      "C:\\Users\\elpaem\\AppData\\Local\\Temp\\ipykernel_2412\\3243649304.py:12: FutureWarning: The frame.append method is deprecated and will be removed from pandas in a future version. Use pandas.concat instead.\n",
      "  id_df = df_mask.append(id_df,ignore_index=True)\n",
      "C:\\Users\\elpaem\\AppData\\Local\\Temp\\ipykernel_2412\\3243649304.py:12: FutureWarning: The frame.append method is deprecated and will be removed from pandas in a future version. Use pandas.concat instead.\n",
      "  id_df = df_mask.append(id_df,ignore_index=True)\n",
      "C:\\Users\\elpaem\\AppData\\Local\\Temp\\ipykernel_2412\\3243649304.py:12: FutureWarning: The frame.append method is deprecated and will be removed from pandas in a future version. Use pandas.concat instead.\n",
      "  id_df = df_mask.append(id_df,ignore_index=True)\n",
      "C:\\Users\\elpaem\\AppData\\Local\\Temp\\ipykernel_2412\\3243649304.py:12: FutureWarning: The frame.append method is deprecated and will be removed from pandas in a future version. Use pandas.concat instead.\n",
      "  id_df = df_mask.append(id_df,ignore_index=True)\n",
      "C:\\Users\\elpaem\\AppData\\Local\\Temp\\ipykernel_2412\\3243649304.py:12: FutureWarning: The frame.append method is deprecated and will be removed from pandas in a future version. Use pandas.concat instead.\n",
      "  id_df = df_mask.append(id_df,ignore_index=True)\n",
      "C:\\Users\\elpaem\\AppData\\Local\\Temp\\ipykernel_2412\\3243649304.py:12: FutureWarning: The frame.append method is deprecated and will be removed from pandas in a future version. Use pandas.concat instead.\n",
      "  id_df = df_mask.append(id_df,ignore_index=True)\n",
      "C:\\Users\\elpaem\\AppData\\Local\\Temp\\ipykernel_2412\\3243649304.py:12: FutureWarning: The frame.append method is deprecated and will be removed from pandas in a future version. Use pandas.concat instead.\n",
      "  id_df = df_mask.append(id_df,ignore_index=True)\n",
      "C:\\Users\\elpaem\\AppData\\Local\\Temp\\ipykernel_2412\\3243649304.py:12: FutureWarning: The frame.append method is deprecated and will be removed from pandas in a future version. Use pandas.concat instead.\n",
      "  id_df = df_mask.append(id_df,ignore_index=True)\n",
      "C:\\Users\\elpaem\\AppData\\Local\\Temp\\ipykernel_2412\\3243649304.py:12: FutureWarning: The frame.append method is deprecated and will be removed from pandas in a future version. Use pandas.concat instead.\n",
      "  id_df = df_mask.append(id_df,ignore_index=True)\n",
      "C:\\Users\\elpaem\\AppData\\Local\\Temp\\ipykernel_2412\\3243649304.py:12: FutureWarning: The frame.append method is deprecated and will be removed from pandas in a future version. Use pandas.concat instead.\n",
      "  id_df = df_mask.append(id_df,ignore_index=True)\n",
      "C:\\Users\\elpaem\\AppData\\Local\\Temp\\ipykernel_2412\\3243649304.py:12: FutureWarning: The frame.append method is deprecated and will be removed from pandas in a future version. Use pandas.concat instead.\n",
      "  id_df = df_mask.append(id_df,ignore_index=True)\n",
      "C:\\Users\\elpaem\\AppData\\Local\\Temp\\ipykernel_2412\\3243649304.py:12: FutureWarning: The frame.append method is deprecated and will be removed from pandas in a future version. Use pandas.concat instead.\n",
      "  id_df = df_mask.append(id_df,ignore_index=True)\n",
      "C:\\Users\\elpaem\\AppData\\Local\\Temp\\ipykernel_2412\\3243649304.py:12: FutureWarning: The frame.append method is deprecated and will be removed from pandas in a future version. Use pandas.concat instead.\n",
      "  id_df = df_mask.append(id_df,ignore_index=True)\n",
      "C:\\Users\\elpaem\\AppData\\Local\\Temp\\ipykernel_2412\\3243649304.py:12: FutureWarning: The frame.append method is deprecated and will be removed from pandas in a future version. Use pandas.concat instead.\n",
      "  id_df = df_mask.append(id_df,ignore_index=True)\n",
      "C:\\Users\\elpaem\\AppData\\Local\\Temp\\ipykernel_2412\\3243649304.py:12: FutureWarning: The frame.append method is deprecated and will be removed from pandas in a future version. Use pandas.concat instead.\n",
      "  id_df = df_mask.append(id_df,ignore_index=True)\n"
     ]
    },
    {
     "name": "stdout",
     "output_type": "stream",
     "text": [
      "(248, 50, 17)\n"
     ]
    },
    {
     "name": "stderr",
     "output_type": "stream",
     "text": [
      "C:\\Users\\elpaem\\AppData\\Local\\Temp\\ipykernel_2412\\3243649304.py:12: FutureWarning: The frame.append method is deprecated and will be removed from pandas in a future version. Use pandas.concat instead.\n",
      "  id_df = df_mask.append(id_df,ignore_index=True)\n",
      "C:\\Users\\elpaem\\AppData\\Local\\Temp\\ipykernel_2412\\3243649304.py:12: FutureWarning: The frame.append method is deprecated and will be removed from pandas in a future version. Use pandas.concat instead.\n",
      "  id_df = df_mask.append(id_df,ignore_index=True)\n",
      "C:\\Users\\elpaem\\AppData\\Local\\Temp\\ipykernel_2412\\3243649304.py:12: FutureWarning: The frame.append method is deprecated and will be removed from pandas in a future version. Use pandas.concat instead.\n",
      "  id_df = df_mask.append(id_df,ignore_index=True)\n",
      "C:\\Users\\elpaem\\AppData\\Local\\Temp\\ipykernel_2412\\3243649304.py:12: FutureWarning: The frame.append method is deprecated and will be removed from pandas in a future version. Use pandas.concat instead.\n",
      "  id_df = df_mask.append(id_df,ignore_index=True)\n",
      "C:\\Users\\elpaem\\AppData\\Local\\Temp\\ipykernel_2412\\3243649304.py:12: FutureWarning: The frame.append method is deprecated and will be removed from pandas in a future version. Use pandas.concat instead.\n",
      "  id_df = df_mask.append(id_df,ignore_index=True)\n"
     ]
    }
   ],
   "source": [
    "#generate test\n",
    "x_test=np.concatenate(list(list(gen_test(df_test[df_test['UnitNumber']==unit], sequence_length, feats, mask_value)) for unit in df_test['UnitNumber'].unique()))\n",
    "print(x_test.shape)"
   ]
  },
  {
   "cell_type": "code",
   "execution_count": 11,
   "metadata": {
    "tags": []
   },
   "outputs": [
    {
     "data": {
      "text/plain": [
       "(248,)"
      ]
     },
     "execution_count": 11,
     "metadata": {},
     "output_type": "execute_result"
    }
   ],
   "source": [
    "#true target of test \n",
    "y_test = y_true.RUL.values\n",
    "y_test.shape"
   ]
  },
  {
   "cell_type": "markdown",
   "metadata": {},
   "source": [
    "### LSTM Model"
   ]
  },
  {
   "cell_type": "code",
   "execution_count": 12,
   "metadata": {
    "tags": []
   },
   "outputs": [],
   "source": [
    "nb_features = x_train.shape[2]\n",
    "nb_out = 1"
   ]
  },
  {
   "cell_type": "code",
   "execution_count": 13,
   "metadata": {
    "tags": []
   },
   "outputs": [
    {
     "data": {
      "text/plain": [
       "17"
      ]
     },
     "execution_count": 13,
     "metadata": {},
     "output_type": "execute_result"
    }
   ],
   "source": [
    "nb_features"
   ]
  },
  {
   "cell_type": "code",
   "execution_count": 14,
   "metadata": {
    "tags": []
   },
   "outputs": [
    {
     "name": "stdout",
     "output_type": "stream",
     "text": [
      "Model: \"sequential\"\n",
      "_________________________________________________________________\n",
      " Layer (type)                Output Shape              Param #   \n",
      "=================================================================\n",
      " lstm (LSTM)                 (None, 50, 128)           74752     \n",
      "                                                                 \n",
      " dropout (Dropout)           (None, 50, 128)           0         \n",
      "                                                                 \n",
      " lstm_1 (LSTM)               (None, 128)               131584    \n",
      "                                                                 \n",
      " dropout_1 (Dropout)         (None, 128)               0         \n",
      "                                                                 \n",
      " dense (Dense)               (None, 1)                 129       \n",
      "                                                                 \n",
      " activation (Activation)     (None, 1)                 0         \n",
      "                                                                 \n",
      "=================================================================\n",
      "Total params: 206,465\n",
      "Trainable params: 206,465\n",
      "Non-trainable params: 0\n",
      "_________________________________________________________________\n"
     ]
    }
   ],
   "source": [
    "history = History()\n",
    "\n",
    "model = Sequential()\n",
    "model.add(LSTM(\n",
    "         units=128,\n",
    "         return_sequences=True,\n",
    "         input_shape=(sequence_length, nb_features)))\n",
    "model.add(Dropout(0.2))\n",
    "model.add(LSTM(\n",
    "          units=128,\n",
    "          return_sequences=False))\n",
    "model.add(Dropout(0.2))\n",
    "model.add(Dense(units=1, activation='relu'))\n",
    "model.add(Activation(\"relu\"))\n",
    "model.compile(loss=\"mse\", optimizer=\"rmsprop\", metrics=['mape'])\n",
    "\n",
    "model.summary()"
   ]
  },
  {
   "cell_type": "code",
   "execution_count": 15,
   "metadata": {
    "tags": []
   },
   "outputs": [
    {
     "name": "stdout",
     "output_type": "stream",
     "text": [
      "Epoch 1/3\n",
      " 299/1380 [=====>........................] - ETA: 43s - loss: 12696.6992 - mape: 136630432.0000"
     ]
    },
    {
     "ename": "KeyboardInterrupt",
     "evalue": "",
     "output_type": "error",
     "traceback": [
      "\u001b[1;31m---------------------------------------------------------------------------\u001b[0m",
      "\u001b[1;31mKeyboardInterrupt\u001b[0m                         Traceback (most recent call last)",
      "File \u001b[1;32m<timed eval>:2\u001b[0m\n",
      "File \u001b[1;32m~\\AppData\\Local\\Programs\\Python\\Python311\\Lib\\site-packages\\keras\\utils\\traceback_utils.py:65\u001b[0m, in \u001b[0;36mfilter_traceback.<locals>.error_handler\u001b[1;34m(*args, **kwargs)\u001b[0m\n\u001b[0;32m     63\u001b[0m filtered_tb \u001b[38;5;241m=\u001b[39m \u001b[38;5;28;01mNone\u001b[39;00m\n\u001b[0;32m     64\u001b[0m \u001b[38;5;28;01mtry\u001b[39;00m:\n\u001b[1;32m---> 65\u001b[0m     \u001b[38;5;28;01mreturn\u001b[39;00m \u001b[43mfn\u001b[49m\u001b[43m(\u001b[49m\u001b[38;5;241;43m*\u001b[39;49m\u001b[43margs\u001b[49m\u001b[43m,\u001b[49m\u001b[43m \u001b[49m\u001b[38;5;241;43m*\u001b[39;49m\u001b[38;5;241;43m*\u001b[39;49m\u001b[43mkwargs\u001b[49m\u001b[43m)\u001b[49m\n\u001b[0;32m     66\u001b[0m \u001b[38;5;28;01mexcept\u001b[39;00m \u001b[38;5;167;01mException\u001b[39;00m \u001b[38;5;28;01mas\u001b[39;00m e:\n\u001b[0;32m     67\u001b[0m     filtered_tb \u001b[38;5;241m=\u001b[39m _process_traceback_frames(e\u001b[38;5;241m.\u001b[39m__traceback__)\n",
      "File \u001b[1;32m~\\AppData\\Local\\Programs\\Python\\Python311\\Lib\\site-packages\\keras\\engine\\training.py:1685\u001b[0m, in \u001b[0;36mModel.fit\u001b[1;34m(self, x, y, batch_size, epochs, verbose, callbacks, validation_split, validation_data, shuffle, class_weight, sample_weight, initial_epoch, steps_per_epoch, validation_steps, validation_batch_size, validation_freq, max_queue_size, workers, use_multiprocessing)\u001b[0m\n\u001b[0;32m   1677\u001b[0m \u001b[38;5;28;01mwith\u001b[39;00m tf\u001b[38;5;241m.\u001b[39mprofiler\u001b[38;5;241m.\u001b[39mexperimental\u001b[38;5;241m.\u001b[39mTrace(\n\u001b[0;32m   1678\u001b[0m     \u001b[38;5;124m\"\u001b[39m\u001b[38;5;124mtrain\u001b[39m\u001b[38;5;124m\"\u001b[39m,\n\u001b[0;32m   1679\u001b[0m     epoch_num\u001b[38;5;241m=\u001b[39mepoch,\n\u001b[1;32m   (...)\u001b[0m\n\u001b[0;32m   1682\u001b[0m     _r\u001b[38;5;241m=\u001b[39m\u001b[38;5;241m1\u001b[39m,\n\u001b[0;32m   1683\u001b[0m ):\n\u001b[0;32m   1684\u001b[0m     callbacks\u001b[38;5;241m.\u001b[39mon_train_batch_begin(step)\n\u001b[1;32m-> 1685\u001b[0m     tmp_logs \u001b[38;5;241m=\u001b[39m \u001b[38;5;28;43mself\u001b[39;49m\u001b[38;5;241;43m.\u001b[39;49m\u001b[43mtrain_function\u001b[49m\u001b[43m(\u001b[49m\u001b[43miterator\u001b[49m\u001b[43m)\u001b[49m\n\u001b[0;32m   1686\u001b[0m     \u001b[38;5;28;01mif\u001b[39;00m data_handler\u001b[38;5;241m.\u001b[39mshould_sync:\n\u001b[0;32m   1687\u001b[0m         context\u001b[38;5;241m.\u001b[39masync_wait()\n",
      "File \u001b[1;32m~\\AppData\\Local\\Programs\\Python\\Python311\\Lib\\site-packages\\tensorflow\\python\\util\\traceback_utils.py:150\u001b[0m, in \u001b[0;36mfilter_traceback.<locals>.error_handler\u001b[1;34m(*args, **kwargs)\u001b[0m\n\u001b[0;32m    148\u001b[0m filtered_tb \u001b[38;5;241m=\u001b[39m \u001b[38;5;28;01mNone\u001b[39;00m\n\u001b[0;32m    149\u001b[0m \u001b[38;5;28;01mtry\u001b[39;00m:\n\u001b[1;32m--> 150\u001b[0m   \u001b[38;5;28;01mreturn\u001b[39;00m \u001b[43mfn\u001b[49m\u001b[43m(\u001b[49m\u001b[38;5;241;43m*\u001b[39;49m\u001b[43margs\u001b[49m\u001b[43m,\u001b[49m\u001b[43m \u001b[49m\u001b[38;5;241;43m*\u001b[39;49m\u001b[38;5;241;43m*\u001b[39;49m\u001b[43mkwargs\u001b[49m\u001b[43m)\u001b[49m\n\u001b[0;32m    151\u001b[0m \u001b[38;5;28;01mexcept\u001b[39;00m \u001b[38;5;167;01mException\u001b[39;00m \u001b[38;5;28;01mas\u001b[39;00m e:\n\u001b[0;32m    152\u001b[0m   filtered_tb \u001b[38;5;241m=\u001b[39m _process_traceback_frames(e\u001b[38;5;241m.\u001b[39m__traceback__)\n",
      "File \u001b[1;32m~\\AppData\\Local\\Programs\\Python\\Python311\\Lib\\site-packages\\tensorflow\\python\\eager\\polymorphic_function\\polymorphic_function.py:894\u001b[0m, in \u001b[0;36mFunction.__call__\u001b[1;34m(self, *args, **kwds)\u001b[0m\n\u001b[0;32m    891\u001b[0m compiler \u001b[38;5;241m=\u001b[39m \u001b[38;5;124m\"\u001b[39m\u001b[38;5;124mxla\u001b[39m\u001b[38;5;124m\"\u001b[39m \u001b[38;5;28;01mif\u001b[39;00m \u001b[38;5;28mself\u001b[39m\u001b[38;5;241m.\u001b[39m_jit_compile \u001b[38;5;28;01melse\u001b[39;00m \u001b[38;5;124m\"\u001b[39m\u001b[38;5;124mnonXla\u001b[39m\u001b[38;5;124m\"\u001b[39m\n\u001b[0;32m    893\u001b[0m \u001b[38;5;28;01mwith\u001b[39;00m OptionalXlaContext(\u001b[38;5;28mself\u001b[39m\u001b[38;5;241m.\u001b[39m_jit_compile):\n\u001b[1;32m--> 894\u001b[0m   result \u001b[38;5;241m=\u001b[39m \u001b[38;5;28;43mself\u001b[39;49m\u001b[38;5;241;43m.\u001b[39;49m\u001b[43m_call\u001b[49m\u001b[43m(\u001b[49m\u001b[38;5;241;43m*\u001b[39;49m\u001b[43margs\u001b[49m\u001b[43m,\u001b[49m\u001b[43m \u001b[49m\u001b[38;5;241;43m*\u001b[39;49m\u001b[38;5;241;43m*\u001b[39;49m\u001b[43mkwds\u001b[49m\u001b[43m)\u001b[49m\n\u001b[0;32m    896\u001b[0m new_tracing_count \u001b[38;5;241m=\u001b[39m \u001b[38;5;28mself\u001b[39m\u001b[38;5;241m.\u001b[39mexperimental_get_tracing_count()\n\u001b[0;32m    897\u001b[0m without_tracing \u001b[38;5;241m=\u001b[39m (tracing_count \u001b[38;5;241m==\u001b[39m new_tracing_count)\n",
      "File \u001b[1;32m~\\AppData\\Local\\Programs\\Python\\Python311\\Lib\\site-packages\\tensorflow\\python\\eager\\polymorphic_function\\polymorphic_function.py:926\u001b[0m, in \u001b[0;36mFunction._call\u001b[1;34m(self, *args, **kwds)\u001b[0m\n\u001b[0;32m    923\u001b[0m   \u001b[38;5;28mself\u001b[39m\u001b[38;5;241m.\u001b[39m_lock\u001b[38;5;241m.\u001b[39mrelease()\n\u001b[0;32m    924\u001b[0m   \u001b[38;5;66;03m# In this case we have created variables on the first call, so we run the\u001b[39;00m\n\u001b[0;32m    925\u001b[0m   \u001b[38;5;66;03m# defunned version which is guaranteed to never create variables.\u001b[39;00m\n\u001b[1;32m--> 926\u001b[0m   \u001b[38;5;28;01mreturn\u001b[39;00m \u001b[38;5;28;43mself\u001b[39;49m\u001b[38;5;241;43m.\u001b[39;49m\u001b[43m_no_variable_creation_fn\u001b[49m\u001b[43m(\u001b[49m\u001b[38;5;241;43m*\u001b[39;49m\u001b[43margs\u001b[49m\u001b[43m,\u001b[49m\u001b[43m \u001b[49m\u001b[38;5;241;43m*\u001b[39;49m\u001b[38;5;241;43m*\u001b[39;49m\u001b[43mkwds\u001b[49m\u001b[43m)\u001b[49m  \u001b[38;5;66;03m# pylint: disable=not-callable\u001b[39;00m\n\u001b[0;32m    927\u001b[0m \u001b[38;5;28;01melif\u001b[39;00m \u001b[38;5;28mself\u001b[39m\u001b[38;5;241m.\u001b[39m_variable_creation_fn \u001b[38;5;129;01mis\u001b[39;00m \u001b[38;5;129;01mnot\u001b[39;00m \u001b[38;5;28;01mNone\u001b[39;00m:\n\u001b[0;32m    928\u001b[0m   \u001b[38;5;66;03m# Release the lock early so that multiple threads can perform the call\u001b[39;00m\n\u001b[0;32m    929\u001b[0m   \u001b[38;5;66;03m# in parallel.\u001b[39;00m\n\u001b[0;32m    930\u001b[0m   \u001b[38;5;28mself\u001b[39m\u001b[38;5;241m.\u001b[39m_lock\u001b[38;5;241m.\u001b[39mrelease()\n",
      "File \u001b[1;32m~\\AppData\\Local\\Programs\\Python\\Python311\\Lib\\site-packages\\tensorflow\\python\\eager\\polymorphic_function\\tracing_compiler.py:143\u001b[0m, in \u001b[0;36mTracingCompiler.__call__\u001b[1;34m(self, *args, **kwargs)\u001b[0m\n\u001b[0;32m    140\u001b[0m \u001b[38;5;28;01mwith\u001b[39;00m \u001b[38;5;28mself\u001b[39m\u001b[38;5;241m.\u001b[39m_lock:\n\u001b[0;32m    141\u001b[0m   (concrete_function,\n\u001b[0;32m    142\u001b[0m    filtered_flat_args) \u001b[38;5;241m=\u001b[39m \u001b[38;5;28mself\u001b[39m\u001b[38;5;241m.\u001b[39m_maybe_define_function(args, kwargs)\n\u001b[1;32m--> 143\u001b[0m \u001b[38;5;28;01mreturn\u001b[39;00m \u001b[43mconcrete_function\u001b[49m\u001b[38;5;241;43m.\u001b[39;49m\u001b[43m_call_flat\u001b[49m\u001b[43m(\u001b[49m\n\u001b[0;32m    144\u001b[0m \u001b[43m    \u001b[49m\u001b[43mfiltered_flat_args\u001b[49m\u001b[43m,\u001b[49m\u001b[43m \u001b[49m\u001b[43mcaptured_inputs\u001b[49m\u001b[38;5;241;43m=\u001b[39;49m\u001b[43mconcrete_function\u001b[49m\u001b[38;5;241;43m.\u001b[39;49m\u001b[43mcaptured_inputs\u001b[49m\u001b[43m)\u001b[49m\n",
      "File \u001b[1;32m~\\AppData\\Local\\Programs\\Python\\Python311\\Lib\\site-packages\\tensorflow\\python\\eager\\polymorphic_function\\monomorphic_function.py:1757\u001b[0m, in \u001b[0;36mConcreteFunction._call_flat\u001b[1;34m(self, args, captured_inputs, cancellation_manager)\u001b[0m\n\u001b[0;32m   1753\u001b[0m possible_gradient_type \u001b[38;5;241m=\u001b[39m gradients_util\u001b[38;5;241m.\u001b[39mPossibleTapeGradientTypes(args)\n\u001b[0;32m   1754\u001b[0m \u001b[38;5;28;01mif\u001b[39;00m (possible_gradient_type \u001b[38;5;241m==\u001b[39m gradients_util\u001b[38;5;241m.\u001b[39mPOSSIBLE_GRADIENT_TYPES_NONE\n\u001b[0;32m   1755\u001b[0m     \u001b[38;5;129;01mand\u001b[39;00m executing_eagerly):\n\u001b[0;32m   1756\u001b[0m   \u001b[38;5;66;03m# No tape is watching; skip to running the function.\u001b[39;00m\n\u001b[1;32m-> 1757\u001b[0m   \u001b[38;5;28;01mreturn\u001b[39;00m \u001b[38;5;28mself\u001b[39m\u001b[38;5;241m.\u001b[39m_build_call_outputs(\u001b[38;5;28;43mself\u001b[39;49m\u001b[38;5;241;43m.\u001b[39;49m\u001b[43m_inference_function\u001b[49m\u001b[38;5;241;43m.\u001b[39;49m\u001b[43mcall\u001b[49m\u001b[43m(\u001b[49m\n\u001b[0;32m   1758\u001b[0m \u001b[43m      \u001b[49m\u001b[43mctx\u001b[49m\u001b[43m,\u001b[49m\u001b[43m \u001b[49m\u001b[43margs\u001b[49m\u001b[43m,\u001b[49m\u001b[43m \u001b[49m\u001b[43mcancellation_manager\u001b[49m\u001b[38;5;241;43m=\u001b[39;49m\u001b[43mcancellation_manager\u001b[49m\u001b[43m)\u001b[49m)\n\u001b[0;32m   1759\u001b[0m forward_backward \u001b[38;5;241m=\u001b[39m \u001b[38;5;28mself\u001b[39m\u001b[38;5;241m.\u001b[39m_select_forward_and_backward_functions(\n\u001b[0;32m   1760\u001b[0m     args,\n\u001b[0;32m   1761\u001b[0m     possible_gradient_type,\n\u001b[0;32m   1762\u001b[0m     executing_eagerly)\n\u001b[0;32m   1763\u001b[0m forward_function, args_with_tangents \u001b[38;5;241m=\u001b[39m forward_backward\u001b[38;5;241m.\u001b[39mforward()\n",
      "File \u001b[1;32m~\\AppData\\Local\\Programs\\Python\\Python311\\Lib\\site-packages\\tensorflow\\python\\eager\\polymorphic_function\\monomorphic_function.py:381\u001b[0m, in \u001b[0;36m_EagerDefinedFunction.call\u001b[1;34m(self, ctx, args, cancellation_manager)\u001b[0m\n\u001b[0;32m    379\u001b[0m \u001b[38;5;28;01mwith\u001b[39;00m _InterpolateFunctionError(\u001b[38;5;28mself\u001b[39m):\n\u001b[0;32m    380\u001b[0m   \u001b[38;5;28;01mif\u001b[39;00m cancellation_manager \u001b[38;5;129;01mis\u001b[39;00m \u001b[38;5;28;01mNone\u001b[39;00m:\n\u001b[1;32m--> 381\u001b[0m     outputs \u001b[38;5;241m=\u001b[39m \u001b[43mexecute\u001b[49m\u001b[38;5;241;43m.\u001b[39;49m\u001b[43mexecute\u001b[49m\u001b[43m(\u001b[49m\n\u001b[0;32m    382\u001b[0m \u001b[43m        \u001b[49m\u001b[38;5;28;43mstr\u001b[39;49m\u001b[43m(\u001b[49m\u001b[38;5;28;43mself\u001b[39;49m\u001b[38;5;241;43m.\u001b[39;49m\u001b[43msignature\u001b[49m\u001b[38;5;241;43m.\u001b[39;49m\u001b[43mname\u001b[49m\u001b[43m)\u001b[49m\u001b[43m,\u001b[49m\n\u001b[0;32m    383\u001b[0m \u001b[43m        \u001b[49m\u001b[43mnum_outputs\u001b[49m\u001b[38;5;241;43m=\u001b[39;49m\u001b[38;5;28;43mself\u001b[39;49m\u001b[38;5;241;43m.\u001b[39;49m\u001b[43m_num_outputs\u001b[49m\u001b[43m,\u001b[49m\n\u001b[0;32m    384\u001b[0m \u001b[43m        \u001b[49m\u001b[43minputs\u001b[49m\u001b[38;5;241;43m=\u001b[39;49m\u001b[43margs\u001b[49m\u001b[43m,\u001b[49m\n\u001b[0;32m    385\u001b[0m \u001b[43m        \u001b[49m\u001b[43mattrs\u001b[49m\u001b[38;5;241;43m=\u001b[39;49m\u001b[43mattrs\u001b[49m\u001b[43m,\u001b[49m\n\u001b[0;32m    386\u001b[0m \u001b[43m        \u001b[49m\u001b[43mctx\u001b[49m\u001b[38;5;241;43m=\u001b[39;49m\u001b[43mctx\u001b[49m\u001b[43m)\u001b[49m\n\u001b[0;32m    387\u001b[0m   \u001b[38;5;28;01melse\u001b[39;00m:\n\u001b[0;32m    388\u001b[0m     outputs \u001b[38;5;241m=\u001b[39m execute\u001b[38;5;241m.\u001b[39mexecute_with_cancellation(\n\u001b[0;32m    389\u001b[0m         \u001b[38;5;28mstr\u001b[39m(\u001b[38;5;28mself\u001b[39m\u001b[38;5;241m.\u001b[39msignature\u001b[38;5;241m.\u001b[39mname),\n\u001b[0;32m    390\u001b[0m         num_outputs\u001b[38;5;241m=\u001b[39m\u001b[38;5;28mself\u001b[39m\u001b[38;5;241m.\u001b[39m_num_outputs,\n\u001b[1;32m   (...)\u001b[0m\n\u001b[0;32m    393\u001b[0m         ctx\u001b[38;5;241m=\u001b[39mctx,\n\u001b[0;32m    394\u001b[0m         cancellation_manager\u001b[38;5;241m=\u001b[39mcancellation_manager)\n",
      "File \u001b[1;32m~\\AppData\\Local\\Programs\\Python\\Python311\\Lib\\site-packages\\tensorflow\\python\\eager\\execute.py:52\u001b[0m, in \u001b[0;36mquick_execute\u001b[1;34m(op_name, num_outputs, inputs, attrs, ctx, name)\u001b[0m\n\u001b[0;32m     50\u001b[0m \u001b[38;5;28;01mtry\u001b[39;00m:\n\u001b[0;32m     51\u001b[0m   ctx\u001b[38;5;241m.\u001b[39mensure_initialized()\n\u001b[1;32m---> 52\u001b[0m   tensors \u001b[38;5;241m=\u001b[39m \u001b[43mpywrap_tfe\u001b[49m\u001b[38;5;241;43m.\u001b[39;49m\u001b[43mTFE_Py_Execute\u001b[49m\u001b[43m(\u001b[49m\u001b[43mctx\u001b[49m\u001b[38;5;241;43m.\u001b[39;49m\u001b[43m_handle\u001b[49m\u001b[43m,\u001b[49m\u001b[43m \u001b[49m\u001b[43mdevice_name\u001b[49m\u001b[43m,\u001b[49m\u001b[43m \u001b[49m\u001b[43mop_name\u001b[49m\u001b[43m,\u001b[49m\n\u001b[0;32m     53\u001b[0m \u001b[43m                                      \u001b[49m\u001b[43minputs\u001b[49m\u001b[43m,\u001b[49m\u001b[43m \u001b[49m\u001b[43mattrs\u001b[49m\u001b[43m,\u001b[49m\u001b[43m \u001b[49m\u001b[43mnum_outputs\u001b[49m\u001b[43m)\u001b[49m\n\u001b[0;32m     54\u001b[0m \u001b[38;5;28;01mexcept\u001b[39;00m core\u001b[38;5;241m.\u001b[39m_NotOkStatusException \u001b[38;5;28;01mas\u001b[39;00m e:\n\u001b[0;32m     55\u001b[0m   \u001b[38;5;28;01mif\u001b[39;00m name \u001b[38;5;129;01mis\u001b[39;00m \u001b[38;5;129;01mnot\u001b[39;00m \u001b[38;5;28;01mNone\u001b[39;00m:\n",
      "\u001b[1;31mKeyboardInterrupt\u001b[0m: "
     ]
    }
   ],
   "source": [
    "%%time\n",
    "# fit the model\n",
    "model.fit(x_train, y_train, epochs=100, batch_size=32, validation_split=0.1, verbose=1,\n",
    "          callbacks = [history, keras.callbacks.EarlyStopping(monitor='val_loss', min_delta=0, patience=10, verbose=0, mode='auto')])"
   ]
  },
  {
   "cell_type": "markdown",
   "metadata": {},
   "source": [
    "Let's plot the loss"
   ]
  },
  {
   "cell_type": "code",
   "execution_count": 16,
   "metadata": {
    "tags": []
   },
   "outputs": [
    {
     "ename": "KeyError",
     "evalue": "'mse'",
     "output_type": "error",
     "traceback": [
      "\u001b[1;31m---------------------------------------------------------------------------\u001b[0m",
      "\u001b[1;31mKeyError\u001b[0m                                  Traceback (most recent call last)",
      "Cell \u001b[1;32mIn[16], line 1\u001b[0m\n\u001b[1;32m----> 1\u001b[0m plt\u001b[38;5;241m.\u001b[39mplot(\u001b[43mhistory\u001b[49m\u001b[38;5;241;43m.\u001b[39;49m\u001b[43mhistory\u001b[49m\u001b[43m[\u001b[49m\u001b[38;5;124;43m'\u001b[39;49m\u001b[38;5;124;43mmse\u001b[39;49m\u001b[38;5;124;43m'\u001b[39;49m\u001b[43m]\u001b[49m)\n\u001b[0;32m      2\u001b[0m plt\u001b[38;5;241m.\u001b[39mplot(history\u001b[38;5;241m.\u001b[39mhistory[\u001b[38;5;124m'\u001b[39m\u001b[38;5;124mval_mse\u001b[39m\u001b[38;5;124m'\u001b[39m])\n\u001b[0;32m      3\u001b[0m plt\u001b[38;5;241m.\u001b[39mtitle(\u001b[38;5;124m'\u001b[39m\u001b[38;5;124mMSE\u001b[39m\u001b[38;5;124m'\u001b[39m)\n",
      "\u001b[1;31mKeyError\u001b[0m: 'mse'"
     ]
    }
   ],
   "source": [
    "plt.plot(history.history['mse'])\n",
    "plt.plot(history.history['val_mse'])\n",
    "plt.title('MSE')\n",
    "plt.ylabel('Mean Squared Error')\n",
    "plt.xlabel('# Epoch')\n",
    "plt.legend(['train', 'test'], loc='upper left')\n",
    "plt.show()"
   ]
  },
  {
   "cell_type": "markdown",
   "metadata": {},
   "source": [
    "### Results on Train Set"
   ]
  },
  {
   "cell_type": "code",
   "execution_count": null,
   "metadata": {
    "tags": []
   },
   "outputs": [],
   "source": [
    "scores = model.evaluate(x_train, y_train, verbose=1, batch_size=200)\n",
    "print('MSE: {}'.format(scores[1]))"
   ]
  },
  {
   "cell_type": "markdown",
   "metadata": {},
   "source": [
    "### Results on Test Set"
   ]
  },
  {
   "cell_type": "code",
   "execution_count": null,
   "metadata": {
    "tags": []
   },
   "outputs": [],
   "source": [
    "scores_test = model.evaluate(x_test, y_test, verbose=2)\n",
    "print('MSE: {}'.format(scores_test[1]))"
   ]
  },
  {
   "cell_type": "code",
   "execution_count": null,
   "metadata": {
    "tags": []
   },
   "outputs": [],
   "source": [
    "y_pred_test = model.predict(x_test, verbose=0)\n",
    "\n",
    "plt.figure(figsize=(30,20))\n",
    "plt.plot(y_pred_test, color='orange', label='Prediction')\n",
    "plt.plot(y_test, color='green', label='Ground Truth')\n",
    "plt.ylabel(\"RUL\")\n",
    "plt.xlabel(\"Unit Number\")\n",
    "plt.legend(loc='upper left')\n",
    "plt.show()"
   ]
  },
  {
   "cell_type": "code",
   "execution_count": null,
   "metadata": {},
   "outputs": [],
   "source": []
  }
 ],
 "metadata": {
  "kernelspec": {
   "display_name": "Python 3 (ipykernel)",
   "language": "python",
   "name": "python3"
  },
  "language_info": {
   "codemirror_mode": {
    "name": "ipython",
    "version": 3
   },
   "file_extension": ".py",
   "mimetype": "text/x-python",
   "name": "python",
   "nbconvert_exporter": "python",
   "pygments_lexer": "ipython3",
   "version": "3.11.2"
  }
 },
 "nbformat": 4,
 "nbformat_minor": 4
}
