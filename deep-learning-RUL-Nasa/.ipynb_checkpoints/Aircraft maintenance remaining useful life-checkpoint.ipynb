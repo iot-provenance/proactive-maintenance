{
 "cells": [
  {
   "cell_type": "code",
   "execution_count": 122,
   "id": "66a9b9ac",
   "metadata": {
    "tags": []
   },
   "outputs": [],
   "source": [
    "import pandas as pd\n",
    "import numpy as np\n",
    "from tensorflow.keras.models import Sequential\n",
    "from tensorflow.keras.layers import Dense, LSTM, Activation, Masking, Dropout,BatchNormalization\n",
    "from tensorflow.keras.callbacks import EarlyStopping\n",
    "import matplotlib.pyplot as plt\n",
    "from sklearn.preprocessing import MinMaxScaler #to normalize data\n",
    "from os.path import exists"
   ]
  },
  {
   "cell_type": "code",
   "execution_count": 123,
   "id": "5bb4a646",
   "metadata": {
    "tags": []
   },
   "outputs": [],
   "source": [
    "#see https://github.com/archd3sai/Predictive-Maintenance-of-Aircraft-Engine/blob/master/RUL%20Prediction%20Regression/LSTM%20RUL%20Prediction.ipynb\n",
    "#dependent_var = ['RUL']\n",
    "index_columns_names =  [\"UnitNumber\",\"Cycle\"]\n",
    "operational_settings_columns_names = [\"OpSet\"+str(i) for i in range(1,4)]\n",
    "sensor_measure_columns_names =[\"SensorMeasure\"+str(i) for i in range(1,22)]\n",
    "input_file_column_names = index_columns_names + operational_settings_columns_names + sensor_measure_columns_names\n",
    "\n",
    "cols_to_drop = ['OpSet3', 'SensorMeasure1', 'SensorMeasure5', 'SensorMeasure6', 'SensorMeasure10', 'SensorMeasure14',\n",
    "     'SensorMeasure16', 'SensorMeasure18', 'SensorMeasure19']\n",
    "    \n",
    "df_train = pd.read_csv('train_FD004.txt',delim_whitespace=True,names=input_file_column_names)\n",
    "    \n",
    "df_test = pd.read_csv('train_FD003.txt',delim_whitespace=True,names=input_file_column_names)\n",
    "\n",
    "df_train = df_train.drop(cols_to_drop, axis = 1)\n",
    "df_test = df_test.drop(cols_to_drop, axis = 1)"
   ]
  },
  {
   "cell_type": "code",
   "execution_count": 124,
   "id": "0a391214",
   "metadata": {
    "tags": []
   },
   "outputs": [
    {
     "name": "stdout",
     "output_type": "stream",
     "text": [
      "Predictive Maintenance techniques are used to determine the condition of an equipment to plan the maintenance/failure ahead of its time\n",
      "\n",
      "Classification: Predicting the failure of machine in upcoming n days\n",
      "\n",
      "The lengths of the run varied with a minimum run length of 128 cycles and the maximum length of 356 cycles\n",
      "\n",
      "RUL - remaining useful life\n",
      "\n",
      "\n",
      "   UnitNumber  Cycle   OpSet1  OpSet2  SensorMeasure2  SensorMeasure3  \\\n",
      "0           1      1  42.0049    0.84          549.68         1343.43   \n",
      "\n",
      "   SensorMeasure4  SensorMeasure7  SensorMeasure8  SensorMeasure9  \\\n",
      "0         1112.93          137.36         2211.86         8311.32   \n",
      "\n",
      "   SensorMeasure11  SensorMeasure12  SensorMeasure13  SensorMeasure15  \\\n",
      "0            41.69           129.78          2387.99           9.3335   \n",
      "\n",
      "   SensorMeasure17  SensorMeasure20  SensorMeasure21  \n",
      "0              330            10.62            6.367  \n",
      "   UnitNumber  Cycle  OpSet1  OpSet2  SensorMeasure2  SensorMeasure3  \\\n",
      "0           1      1 -0.0005  0.0004          642.36         1583.23   \n",
      "\n",
      "   SensorMeasure4  SensorMeasure7  SensorMeasure8  SensorMeasure9  \\\n",
      "0         1396.84          553.97         2387.96         9062.17   \n",
      "\n",
      "   SensorMeasure11  SensorMeasure12  SensorMeasure13  SensorMeasure15  \\\n",
      "0             47.3           522.31          2388.01           8.4246   \n",
      "\n",
      "   SensorMeasure17  SensorMeasure20  SensorMeasure21  \n",
      "0              391            39.11          23.3537  \n"
     ]
    }
   ],
   "source": [
    "print(\"Predictive Maintenance techniques are used to determine the condition of an equipment to plan the maintenance/failure ahead of its time\\n\")\n",
    "print(\"Classification: Predicting the failure of machine in upcoming n days\\n\")\n",
    "print(\"The lengths of the run varied with a minimum run length of 128 cycles and the maximum length of 356 cycles\\n\")\n",
    "print(\"RUL - remaining useful life\\n\\n\")\n",
    "print(df_train.head(1))\n",
    "print(df_test.head(1))"
   ]
  },
  {
   "cell_type": "code",
   "execution_count": 125,
   "id": "c292c159",
   "metadata": {
    "tags": []
   },
   "outputs": [
    {
     "name": "stdout",
     "output_type": "stream",
     "text": [
      "Find the max cycle count for each unit\n",
      "\n",
      "   UnitNumber  max\n",
      "0           1  321\n",
      "1           2  299\n",
      "2           3  307\n",
      "   UnitNumber  Cycle   OpSet1  OpSet2  SensorMeasure2  SensorMeasure3  \\\n",
      "0           1      1  42.0049  0.8400          549.68         1343.43   \n",
      "1           1      2  20.0020  0.7002          606.07         1477.61   \n",
      "2           1      3  42.0038  0.8409          548.95         1343.12   \n",
      "\n",
      "   SensorMeasure4  SensorMeasure7  SensorMeasure8  SensorMeasure9  \\\n",
      "0         1112.93          137.36         2211.86         8311.32   \n",
      "1         1237.50          332.10         2323.66         8713.60   \n",
      "2         1117.05          138.18         2211.92         8306.69   \n",
      "\n",
      "   SensorMeasure11  SensorMeasure12  SensorMeasure13  SensorMeasure15  \\\n",
      "0            41.69           129.78          2387.99           9.3335   \n",
      "1            43.94           312.59          2387.73           9.1913   \n",
      "2            41.66           129.62          2387.97           9.4007   \n",
      "\n",
      "   SensorMeasure17  SensorMeasure20  SensorMeasure21  RUL  \n",
      "0              330            10.62           6.3670  320  \n",
      "1              361            24.37          14.6552  319  \n",
      "2              329            10.48           6.4213  318  \n"
     ]
    }
   ],
   "source": [
    "print(\"Find the max cycle count for each unit\\n\"\n",
    "     )\n",
    "rul = pd.DataFrame(df_train.groupby('UnitNumber')['Cycle'].max()).reset_index()\n",
    "rul.columns = ['UnitNumber', 'max']\n",
    "print(rul.head(3))\n",
    "\n",
    "df_train = df_train.merge(rul, on=['UnitNumber'], how='left')\n",
    "df_train['RUL'] = df_train['max'] - df_train['Cycle']\n",
    "df_train.drop('max', axis=1, inplace=True)\n",
    "print(df_train.head(3))\n",
    "\n",
    "\n",
    "rul2 = pd.DataFrame(df_test.groupby('UnitNumber')['Cycle'].max()).reset_index()\n",
    "rul2.columns = ['UnitNumber', 'max']\n",
    "\n",
    "\n",
    "df_test = df_test.merge(rul2, on=['UnitNumber'], how='left')\n",
    "df_test['RUL'] = df_test['max'] - df_test['Cycle']\n",
    "df_test.drop('max', axis=1, inplace=True)\n"
   ]
  },
  {
   "cell_type": "code",
   "execution_count": 126,
   "id": "c28576ba",
   "metadata": {
    "tags": []
   },
   "outputs": [
    {
     "name": "stdout",
     "output_type": "stream",
     "text": [
      "   UnitNumber  max\n",
      "0           1  259\n",
      "1           2  253\n",
      "2           3  222\n",
      "   UnitNumber  Cycle  OpSet1  OpSet2  SensorMeasure2  SensorMeasure3  \\\n",
      "0           1      1 -0.0005  0.0004          642.36         1583.23   \n",
      "1           1      2  0.0008 -0.0003          642.50         1584.69   \n",
      "2           1      3 -0.0014 -0.0002          642.18         1582.35   \n",
      "\n",
      "   SensorMeasure4  SensorMeasure7  SensorMeasure8  SensorMeasure9  \\\n",
      "0         1396.84          553.97         2387.96         9062.17   \n",
      "1         1396.89          554.55         2388.00         9061.78   \n",
      "2         1405.61          554.43         2388.03         9070.23   \n",
      "\n",
      "   SensorMeasure11  SensorMeasure12  SensorMeasure13  SensorMeasure15  \\\n",
      "0            47.30           522.31          2388.01           8.4246   \n",
      "1            47.23           522.42          2388.03           8.4403   \n",
      "2            47.22           522.03          2388.00           8.3901   \n",
      "\n",
      "   SensorMeasure17  SensorMeasure20  SensorMeasure21  RUL  \n",
      "0              391            39.11          23.3537  258  \n",
      "1              392            38.99          23.4491  257  \n",
      "2              391            38.85          23.3669  256  \n"
     ]
    }
   ],
   "source": [
    "print(rul2.head(3))\n",
    "print(df_test.head(3))\n",
    "#y_true = pd.read_csv('RUL_FD001.txt', delim_whitespace=True,names=[\"RUL\"])\n",
    "#y_true[\"UnitNumber\"] = y_true.index\n",
    "\n",
    "#print(y_true)"
   ]
  },
  {
   "cell_type": "code",
   "execution_count": 127,
   "id": "7c8b8ff1",
   "metadata": {
    "tags": []
   },
   "outputs": [
    {
     "name": "stdout",
     "output_type": "stream",
     "text": [
      "X_train (49048, 50, 17)\n",
      "y_train (49048,)\n"
     ]
    }
   ],
   "source": [
    "def gen_train(id_df, seq_length, seq_cols):\n",
    "    \"\"\"\n",
    "        function to prepare train data into (samples, time steps, features)\n",
    "        id_df = train dataframe\n",
    "        seq_length = look back period\n",
    "        seq_cols = feature columns\n",
    "    \"\"\"\n",
    "        \n",
    "    data_array = id_df[seq_cols].values\n",
    "    num_elements = data_array.shape[0]\n",
    "    lstm_array=[]\n",
    "    \n",
    "    for start, stop in zip(range(0, num_elements-seq_length+1), range(seq_length, num_elements+1)):\n",
    "        lstm_array.append(data_array[start:stop, :])\n",
    "    \n",
    "    return np.array(lstm_array)\n",
    "\n",
    "def gen_target(id_df, seq_length, label):\n",
    "    data_array = id_df[label].values\n",
    "    num_elements = data_array.shape[0]\n",
    "    return data_array[seq_length-1:num_elements+1]\n",
    "\n",
    "X_Columns = [column for column in df_train.columns if column !=\"RUL\"]\n",
    "\n",
    "\n",
    "X_ColumnsTest = [column for column in df_test.columns if column !=\"RUL\"]\n",
    "\n",
    "min_max_scaler = MinMaxScaler(feature_range=(-1,1))\n",
    "\n",
    "df_train[X_Columns] = min_max_scaler.fit_transform(df_train[X_Columns])\n",
    "df_test[X_ColumnsTest] = min_max_scaler.fit_transform(df_test[X_ColumnsTest])\n",
    "sequence_length=50\n",
    "\n",
    "X_train=np.concatenate(list(list(gen_train(df_train[df_train['UnitNumber']==unit], sequence_length, X_Columns)) for unit in df_train['UnitNumber'].unique()))\n",
    "print(\"X_train\",X_train.shape)\n",
    "y_train = np.concatenate(list(list(gen_target(df_train[df_train['UnitNumber']==unit], sequence_length, \"RUL\")) for unit in df_train['UnitNumber'].unique()))\n",
    "print(\"y_train\",y_train.shape)\n",
    "\n"
   ]
  },
  {
   "cell_type": "code",
   "execution_count": 128,
   "id": "42c0c13d",
   "metadata": {
    "tags": []
   },
   "outputs": [
    {
     "name": "stdout",
     "output_type": "stream",
     "text": [
      "X_test (19820, 50, 17)\n",
      "y_test (19820,)\n",
      "Model: \"sequential_9\"\n",
      "_________________________________________________________________\n",
      " Layer (type)                Output Shape              Param #   \n",
      "=================================================================\n",
      " lstm_18 (LSTM)              (None, 50, 512)           1085440   \n",
      "                                                                 \n",
      " batch_normalization_9 (Batc  (None, 50, 512)          2048      \n",
      " hNormalization)                                                 \n",
      "                                                                 \n",
      " dropout_18 (Dropout)        (None, 50, 512)           0         \n",
      "                                                                 \n",
      " lstm_19 (LSTM)              (None, 128)               328192    \n",
      "                                                                 \n",
      " dropout_19 (Dropout)        (None, 128)               0         \n",
      "                                                                 \n",
      " dense_9 (Dense)             (None, 1)                 129       \n",
      "                                                                 \n",
      " activation_9 (Activation)   (None, 1)                 0         \n",
      "                                                                 \n",
      "=================================================================\n",
      "Total params: 1,415,809\n",
      "Trainable params: 1,414,785\n",
      "Non-trainable params: 1,024\n",
      "_________________________________________________________________\n"
     ]
    }
   ],
   "source": [
    "X_test=np.concatenate(list(list(gen_train(df_test[df_test['UnitNumber']==unit], sequence_length, X_ColumnsTest)) for unit in df_test['UnitNumber'].unique()))\n",
    "print(\"X_test\",X_test.shape)\n",
    "y_test = np.concatenate(list(list(gen_target(df_test[df_test['UnitNumber']==unit], sequence_length, \"RUL\")) for unit in df_test['UnitNumber'].unique()))\n",
    "print(\"y_test\",y_test.shape)\n",
    "\n",
    "nb_features = X_train.shape[2]\n",
    "nb_out = 1\n",
    "\n",
    "\n",
    "\n",
    "model = Sequential()\n",
    "model.add(LSTM(\n",
    "         units=512,\n",
    "         return_sequences=True,\n",
    "         input_shape=(sequence_length, nb_features)))\n",
    "model.add(BatchNormalization())\n",
    "model.add(Dropout(0.2))\n",
    "model.add(LSTM(\n",
    "          units=128,\n",
    "          return_sequences=False))\n",
    "model.add(Dropout(0.2))\n",
    "model.add(Dense(units=1, activation='relu'))\n",
    "model.add(Activation(\"relu\"))\n",
    "model.compile(loss=\"mse\", optimizer=\"rmsprop\", metrics=['mse'])\n",
    "\n",
    "model.summary()"
   ]
  },
  {
   "cell_type": "code",
   "execution_count": null,
   "id": "9a595191",
   "metadata": {
    "scrolled": true,
    "tags": []
   },
   "outputs": [
    {
     "name": "stdout",
     "output_type": "stream",
     "text": [
      "Train the model\n",
      "Epoch 1/3\n",
      " 814/1380 [================>.............] - ETA: 2:49 - loss: 420.2318 - mse: 420.2318"
     ]
    }
   ],
   "source": [
    "\n",
    "print (\"Train the model\")\n",
    "length=len(X_train)\n",
    "path_to_file=\"D:\\\\RulNasa\\\\lstm_aircraft_model4.h5\"\n",
    "\n",
    "file_exists = exists(path_to_file)\n",
    "if(file_exists):\n",
    "    model.load_weights(path_to_file)\n",
    "    \n",
    "history=model.fit(X_train, y_train, epochs=3, batch_size=32, validation_split=0.1, verbose=1,\n",
    "          callbacks = [EarlyStopping(monitor='val_loss', min_delta=0, patience=10, verbose=0, mode='auto')])\n",
    "\n",
    "model.save_weights(path_to_file)\n"
   ]
  },
  {
   "cell_type": "code",
   "execution_count": null,
   "id": "9c26cf53",
   "metadata": {
    "tags": []
   },
   "outputs": [],
   "source": [
    "plt.plot(history.history['mse'])\n",
    "#plt.plot(history.history['val_mean_squared_error'])\n",
    "plt.title('MSE')\n",
    "plt.ylabel('Mean Squared Error')\n",
    "plt.xlabel('# Epoch')\n",
    "plt.legend(['train'], loc='upper left')\n",
    "plt.show()"
   ]
  },
  {
   "cell_type": "code",
   "execution_count": null,
   "id": "d9277738",
   "metadata": {
    "tags": []
   },
   "outputs": [],
   "source": [
    "scores = model.evaluate(X_train, y_train, verbose=1, batch_size=200)\n",
    "print('MSE: {}'.format(scores[1]))"
   ]
  },
  {
   "cell_type": "code",
   "execution_count": null,
   "id": "5d0662b2",
   "metadata": {
    "tags": []
   },
   "outputs": [],
   "source": [
    "y_pred_test = model.predict(X_test, verbose=0)\n",
    "\n",
    "plt.figure(figsize=(20,5))\n",
    "plt.plot(y_pred_test, color='orange', label='Prediction')\n",
    "plt.plot(y_test, color='green', label='Ground Truth')\n",
    "plt.ylabel(\"RUL\")\n",
    "plt.xlabel(\"Unit Number\")\n",
    "plt.legend(loc='upper left')\n",
    "plt.show()"
   ]
  },
  {
   "cell_type": "code",
   "execution_count": null,
   "id": "ab8da69f",
   "metadata": {},
   "outputs": [],
   "source": [
    "print(\"done!\")"
   ]
  },
  {
   "cell_type": "code",
   "execution_count": null,
   "id": "e12d6aba",
   "metadata": {},
   "outputs": [],
   "source": []
  }
 ],
 "metadata": {
  "kernelspec": {
   "display_name": "Python 3 (ipykernel)",
   "language": "python",
   "name": "python3"
  },
  "language_info": {
   "codemirror_mode": {
    "name": "ipython",
    "version": 3
   },
   "file_extension": ".py",
   "mimetype": "text/x-python",
   "name": "python",
   "nbconvert_exporter": "python",
   "pygments_lexer": "ipython3",
   "version": "3.11.2"
  }
 },
 "nbformat": 4,
 "nbformat_minor": 5
}
