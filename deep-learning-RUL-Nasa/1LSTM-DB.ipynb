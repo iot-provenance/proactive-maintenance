{
 "cells": [
  {
   "cell_type": "markdown",
   "metadata": {},
   "source": [
    "# Aircraft Engine RUL Prediction"
   ]
  },
  {
   "cell_type": "code",
   "execution_count": 51,
   "metadata": {
    "tags": []
   },
   "outputs": [],
   "source": [
    "import pandas as pd\n",
    "import numpy as np\n",
    "import psycopg2\n",
    "\n",
    "#to plot the data\n",
    "import matplotlib.pyplot as plt\n",
    "import seaborn as sns\n",
    "plt.style.use('fivethirtyeight')\n",
    "%matplotlib inline\n",
    "\n",
    "from sklearn.preprocessing import MinMaxScaler #to normalize data\n",
    "\n",
    "import os\n",
    "os.chdir(\"D:/RulNasa/\")\n",
    "\n",
    "#for deep learning\n",
    "import keras\n",
    "import keras.backend as k\n",
    "from keras.models import Sequential\n",
    "from keras.layers import Dense, LSTM, Activation, Masking, Dropout\n",
    "from keras.optimizers import RMSprop,adam\n",
    "from keras.callbacks import History\n",
    "from keras import callbacks"
   ]
  },
  {
   "cell_type": "code",
   "execution_count": null,
   "metadata": {
    "tags": []
   },
   "outputs": [],
   "source": [
    "def get_data_from_db(query):\n",
    "    \n",
    "    \n",
    "\n",
    "\n",
    "#establishing the connection\n",
    "conn = psycopg2.connect(\n",
    "   database=\"dataset\", user='postgres', password='0125527', host='127.0.0.1', port= '5432'\n",
    ")\n",
    "#Creating a cursor object using the cursor() method\n",
    "cursor = conn.cursor()\n",
    "\n",
    "#Executing an MYSQL function using the execute() method\n",
    "cursor.execute(query)\n",
    "\n",
    "# Fetch a single row using fetchone() method.\n",
    "data = cursor.fetchall()\n",
    "\n",
    "\n",
    "#Closing the connection\n",
    "conn.close()\n",
    "\n",
    "#scores = model.evaluate(x_train, y_train, verbose=1, batch_size=200)\n",
    "#print('MSE: {}'.format(scores[1]))\n",
    "return data;"
   ]
  },
  {
   "cell_type": "code",
   "execution_count": 52,
   "metadata": {
    "tags": []
   },
   "outputs": [],
   "source": [
    "# based on data wrangling python notebook\n",
    "def prepare_data(drop_cols = True):\n",
    "    dependent_var = ['RUL']\n",
    "    index_columns_names =  [\"UnitNumber\",\"Cycle\"]\n",
    "    operational_settings_columns_names = [\"OpSet\"+str(i) for i in range(1,4)]\n",
    "    sensor_measure_columns_names =[\"SensorMeasure\"+str(i) for i in range(1,22)]\n",
    "    input_file_column_names = index_columns_names + sensor_measure_columns_names\n",
    "\n",
    "   \n",
    "    df_train =get_data_from_db()\n",
    "  \n",
    "    \n",
    "    rul = pd.DataFrame(df_train.groupby('UnitNumber')['Cycle'].max()).reset_index()\n",
    "    rul.columns = ['UnitNumber', 'max']\n",
    "    df_train = df_train.merge(rul, on=['UnitNumber'], how='left')\n",
    "    df_train['RUL'] = df_train['max'] - df_train['Cycle']\n",
    "    df_train.drop('max', axis=1, inplace=True)\n",
    "\n",
    "    df_test = pd.read_csv('train_FD004_2.txt', delim_whitespace=True, names=input_file_column_names)\n",
    "    \n",
    "\n",
    "    y_true = pd.read_csv('RUL_FD004.txt', delim_whitespace=True,names=[\"RUL\"])\n",
    "    y_true[\"UnitNumber\"] = y_true.index\n",
    "    \n",
    "    return df_train, df_test, y_true"
   ]
  },
  {
   "cell_type": "markdown",
   "metadata": {},
   "source": [
    "## Model"
   ]
  },
  {
   "cell_type": "markdown",
   "metadata": {},
   "source": [
    "### Data Preprocessing"
   ]
  },
  {
   "cell_type": "markdown",
   "metadata": {},
   "source": [
    "To make sure that variance of features remain in the same range, it is important to scale the features. If a feature's variance is order of magnitude more than the variance of other features, that particular feature might dominate other features in the dataset, which is not desirable."
   ]
  },
  {
   "cell_type": "code",
   "execution_count": 53,
   "metadata": {
    "tags": []
   },
   "outputs": [
    {
     "name": "stdout",
     "output_type": "stream",
     "text": [
      "(11249, 17)\n",
      "(50000, 18)\n"
     ]
    }
   ],
   "source": [
    "df_train, df_test, y_true = prepare_data(drop_cols=True)\n",
    "df_train.shape, df_test.shape, y_true.shape\n",
    "\n",
    "feats = [column for column in df_train.columns if column !=\"RUL\"]\n",
    "\n",
    "min_max_scaler = MinMaxScaler(feature_range=(-1,1))\n",
    "\n",
    "df_train[feats] = min_max_scaler.fit_transform(df_train[feats])\n",
    "df_test[feats] = min_max_scaler.fit_transform(df_test[feats])\n",
    "\n",
    "print(df_test.shape)\n",
    "print(df_train.shape)"
   ]
  },
  {
   "cell_type": "markdown",
   "metadata": {},
   "source": [
    "\n",
    "LSTM expects an input in the shape of a numpy array of 3 dimensions and I will need to convert train and test data accordingly."
   ]
  },
  {
   "cell_type": "code",
   "execution_count": 54,
   "metadata": {
    "tags": []
   },
   "outputs": [],
   "source": [
    "def gen_train(id_df, seq_length, seq_cols):\n",
    "    \"\"\"\n",
    "        function to prepare train data into (samples, time steps, features)\n",
    "        id_df = train dataframe\n",
    "        seq_length = look back period\n",
    "        seq_cols = feature columns\n",
    "    \"\"\"\n",
    "        \n",
    "    data_array = id_df[seq_cols].values\n",
    "    num_elements = data_array.shape[0]\n",
    "    \n",
    "    print(num_elements)\n",
    "    lstm_array=[]\n",
    "    \n",
    "    for start, stop in zip(range(0, num_elements-seq_length+1), range(seq_length, num_elements+1)):\n",
    "        lstm_array.append(data_array[start:stop, :])\n",
    "    \n",
    "    return np.array(lstm_array)"
   ]
  },
  {
   "cell_type": "code",
   "execution_count": 55,
   "metadata": {
    "tags": []
   },
   "outputs": [],
   "source": [
    "def gen_target(id_df, seq_length, label):\n",
    "    data_array = id_df[label].values\n",
    "    num_elements = data_array.shape[0]\n",
    "    return data_array[seq_length-1:num_elements+1]"
   ]
  },
  {
   "cell_type": "code",
   "execution_count": 56,
   "metadata": {
    "tags": []
   },
   "outputs": [],
   "source": [
    "def gen_test(id_df, seq_length, seq_cols, mask_value):\n",
    "    \"\"\"\n",
    "        function to prepare test data into (samples, time steps, features)\n",
    "        function only returns last sequence of data for every unit\n",
    "        id_df = test dataframe\n",
    "        seq_length = look back period\n",
    "        seq_cols = feature columns\n",
    "    \"\"\"\n",
    "  #  df_mask = pd.DataFrame(np.zeros((seq_length-1,id_df.shape[1])),columns=id_df.columns)\n",
    "   # df_mask[:] = mask_value\n",
    "    \n",
    "   # id_df = df_mask.append(id_df,ignore_index=True)\n",
    "    \n",
    "    data_array = id_df[seq_cols].values\n",
    "    num_elements = data_array.shape[0]\n",
    "    lstm_array=[]\n",
    "    \n",
    "    start = 0\n",
    "    #num_elements-seq_length\n",
    "    stop = num_elements\n",
    "    \n",
    "    lstm_array.append(data_array[start:stop, :])\n",
    "    \n",
    "    return np.array(lstm_array)"
   ]
  },
  {
   "cell_type": "markdown",
   "metadata": {},
   "source": [
    "\n",
    "Let's define look back period and mask_value"
   ]
  },
  {
   "cell_type": "code",
   "execution_count": 57,
   "metadata": {
    "tags": []
   },
   "outputs": [],
   "source": [
    "sequence_length = 50\n",
    "mask_value = 0"
   ]
  },
  {
   "cell_type": "markdown",
   "metadata": {},
   "source": [
    "\n",
    "Let's prepare data using above functions."
   ]
  },
  {
   "cell_type": "code",
   "execution_count": 58,
   "metadata": {
    "tags": []
   },
   "outputs": [
    {
     "name": "stdout",
     "output_type": "stream",
     "text": [
      "321\n",
      "299\n",
      "307\n",
      "274\n",
      "193\n",
      "331\n",
      "221\n",
      "230\n",
      "334\n",
      "354\n",
      "301\n",
      "272\n",
      "256\n",
      "253\n",
      "224\n",
      "184\n",
      "151\n",
      "343\n",
      "210\n",
      "245\n",
      "227\n",
      "211\n",
      "280\n",
      "186\n",
      "150\n",
      "297\n",
      "163\n",
      "202\n",
      "247\n",
      "297\n",
      "263\n",
      "219\n",
      "201\n",
      "276\n",
      "221\n",
      "143\n",
      "388\n",
      "177\n",
      "202\n",
      "206\n",
      "279\n",
      "280\n",
      "223\n",
      "203\n",
      "177\n",
      "321\n",
      "375\n",
      "322\n",
      "446\n",
      "172\n",
      "285\n",
      "357\n",
      "304\n",
      "197\n",
      "344\n",
      "347\n",
      "193\n",
      "281\n",
      "177\n",
      "218\n",
      "244\n",
      "297\n",
      "170\n",
      "184\n",
      "351\n",
      "175\n",
      "167\n",
      "163\n",
      "226\n",
      "185\n",
      "312\n",
      "308\n",
      "181\n",
      "244\n",
      "230\n",
      "152\n",
      "148\n",
      "250\n",
      "218\n",
      "305\n",
      "187\n",
      "197\n",
      "184\n",
      "159\n",
      "277\n",
      "232\n",
      "259\n",
      "388\n",
      "168\n",
      "212\n",
      "354\n",
      "191\n",
      "196\n",
      "249\n",
      "239\n",
      "270\n",
      "262\n",
      "245\n",
      "167\n",
      "261\n",
      "260\n",
      "194\n",
      "224\n",
      "203\n",
      "170\n",
      "266\n",
      "183\n",
      "304\n",
      "325\n",
      "186\n",
      "297\n",
      "340\n",
      "184\n",
      "161\n",
      "131\n",
      "344\n",
      "342\n",
      "543\n",
      "187\n",
      "177\n",
      "194\n",
      "174\n",
      "226\n",
      "170\n",
      "239\n",
      "302\n",
      "235\n",
      "248\n",
      "190\n",
      "166\n",
      "370\n",
      "254\n",
      "489\n",
      "247\n",
      "149\n",
      "205\n",
      "225\n",
      "178\n",
      "251\n",
      "298\n",
      "199\n",
      "209\n",
      "184\n",
      "297\n",
      "228\n",
      "303\n",
      "234\n",
      "193\n",
      "261\n",
      "149\n",
      "351\n",
      "262\n",
      "168\n",
      "203\n",
      "295\n",
      "139\n",
      "298\n",
      "399\n",
      "288\n",
      "187\n",
      "303\n",
      "313\n",
      "285\n",
      "380\n",
      "255\n",
      "269\n",
      "263\n",
      "196\n",
      "227\n",
      "161\n",
      "399\n",
      "273\n",
      "457\n",
      "370\n",
      "156\n",
      "180\n",
      "242\n",
      "170\n",
      "435\n",
      "344\n",
      "134\n",
      "205\n",
      "190\n",
      "379\n",
      "259\n",
      "163\n",
      "273\n",
      "254\n",
      "239\n",
      "381\n",
      "297\n",
      "190\n",
      "197\n",
      "145\n",
      "159\n",
      "174\n",
      "170\n",
      "164\n",
      "176\n",
      "225\n",
      "378\n",
      "241\n",
      "84\n",
      "(40053, 50, 17)\n"
     ]
    }
   ],
   "source": [
    "#generate train\n",
    "x_train=np.concatenate(list(list(gen_train(df_train[df_train['UnitNumber']==unit], sequence_length, feats)) for unit in df_train['UnitNumber'].unique()))\n",
    "print(x_train.shape)"
   ]
  },
  {
   "cell_type": "code",
   "execution_count": 59,
   "metadata": {
    "scrolled": true,
    "tags": []
   },
   "outputs": [
    {
     "data": {
      "text/plain": [
       "(40053,)"
      ]
     },
     "execution_count": 59,
     "metadata": {},
     "output_type": "execute_result"
    }
   ],
   "source": [
    "#generate target of train\n",
    "y_train = np.concatenate(list(list(gen_target(df_train[df_train['UnitNumber']==unit], sequence_length, \"RUL\")) for unit in df_train['UnitNumber'].unique()))\n",
    "y_train.shape"
   ]
  },
  {
   "cell_type": "code",
   "execution_count": 60,
   "metadata": {
    "tags": []
   },
   "outputs": [
    {
     "name": "stdout",
     "output_type": "stream",
     "text": [
      "240\n",
      "211\n",
      "242\n",
      "263\n",
      "379\n",
      "290\n",
      "161\n",
      "167\n",
      "146\n",
      "229\n",
      "197\n",
      "128\n",
      "361\n",
      "244\n",
      "200\n",
      "236\n",
      "190\n",
      "202\n",
      "274\n",
      "202\n",
      "247\n",
      "268\n",
      "418\n",
      "194\n",
      "287\n",
      "279\n",
      "280\n",
      "250\n",
      "194\n",
      "273\n",
      "289\n",
      "207\n",
      "199\n",
      "225\n",
      "212\n",
      "187\n",
      "365\n",
      "149\n",
      "332\n",
      "222\n",
      "327\n",
      "267\n",
      "205\n",
      "161\n",
      "211\n",
      "184\n",
      "255\n",
      "(8946, 50, 17)\n"
     ]
    }
   ],
   "source": [
    "#generate test\n",
    "x_test=np.concatenate(list(list(gen_train(df_test[df_test['UnitNumber']==unit], sequence_length, feats)) for unit in df_test['UnitNumber'].unique()))\n",
    "print(x_test.shape)"
   ]
  },
  {
   "cell_type": "code",
   "execution_count": 67,
   "metadata": {
    "tags": []
   },
   "outputs": [
    {
     "data": {
      "text/plain": [
       "(8946, 50, 17)"
      ]
     },
     "execution_count": 67,
     "metadata": {},
     "output_type": "execute_result"
    }
   ],
   "source": [
    "#true target of test \n",
    "y_test = y_true.RUL.values\n",
    "y_test.shape\n",
    "x_test.shape"
   ]
  },
  {
   "cell_type": "markdown",
   "metadata": {},
   "source": [
    "### LSTM Model"
   ]
  },
  {
   "cell_type": "code",
   "execution_count": 62,
   "metadata": {
    "tags": []
   },
   "outputs": [],
   "source": [
    "nb_features = x_train.shape[2]\n",
    "nb_out = 1"
   ]
  },
  {
   "cell_type": "code",
   "execution_count": 63,
   "metadata": {
    "tags": []
   },
   "outputs": [
    {
     "data": {
      "text/plain": [
       "17"
      ]
     },
     "execution_count": 63,
     "metadata": {},
     "output_type": "execute_result"
    }
   ],
   "source": [
    "nb_features"
   ]
  },
  {
   "cell_type": "code",
   "execution_count": 64,
   "metadata": {
    "tags": []
   },
   "outputs": [
    {
     "name": "stdout",
     "output_type": "stream",
     "text": [
      "Model: \"sequential\"\n",
      "_________________________________________________________________\n",
      " Layer (type)                Output Shape              Param #   \n",
      "=================================================================\n",
      " lstm (LSTM)                 (None, 50, 100)           47200     \n",
      "                                                                 \n",
      " dropout (Dropout)           (None, 50, 100)           0         \n",
      "                                                                 \n",
      " lstm_1 (LSTM)               (None, 100)               80400     \n",
      "                                                                 \n",
      " dropout_1 (Dropout)         (None, 100)               0         \n",
      "                                                                 \n",
      " dense (Dense)               (None, 1)                 101       \n",
      "                                                                 \n",
      " activation (Activation)     (None, 1)                 0         \n",
      "                                                                 \n",
      "=================================================================\n",
      "Total params: 127,701\n",
      "Trainable params: 127,701\n",
      "Non-trainable params: 0\n",
      "_________________________________________________________________\n"
     ]
    }
   ],
   "source": [
    "history = History()\n",
    "\n",
    "model = Sequential()\n",
    "model.add(LSTM(\n",
    "         units=100,\n",
    "         return_sequences=True,\n",
    "         input_shape=(sequence_length, nb_features)))\n",
    "model.add(Dropout(0.2))\n",
    "model.add(LSTM(\n",
    "          units=100,\n",
    "          return_sequences=False))\n",
    "model.add(Dropout(0.2))\n",
    "model.add(Dense(units=1, activation='relu'))\n",
    "model.add(Activation(\"relu\"))\n",
    "model.compile(loss=\"mse\", optimizer=\"rmsprop\", metrics=['mse'])\n",
    "\n",
    "model.summary()"
   ]
  },
  {
   "cell_type": "code",
   "execution_count": 65,
   "metadata": {
    "tags": []
   },
   "outputs": [
    {
     "name": "stdout",
     "output_type": "stream",
     "text": [
      "Epoch 1/100\n",
      "1127/1127 [==============================] - 44s 35ms/step - loss: 9872.4072 - mse: 9872.4072 - val_loss: 5881.9009 - val_mse: 5881.9009\n",
      "Epoch 2/100\n",
      "1127/1127 [==============================] - 39s 34ms/step - loss: 4573.6274 - mse: 4573.6274 - val_loss: 6769.8662 - val_mse: 6769.8662\n",
      "Epoch 3/100\n",
      "1127/1127 [==============================] - 39s 34ms/step - loss: 2951.9712 - mse: 2951.9712 - val_loss: 3801.2346 - val_mse: 3801.2346\n",
      "Epoch 4/100\n",
      "1127/1127 [==============================] - 39s 35ms/step - loss: 2544.0476 - mse: 2544.0476 - val_loss: 4912.8574 - val_mse: 4912.8574\n",
      "Epoch 5/100\n",
      "1127/1127 [==============================] - 39s 35ms/step - loss: 2266.3052 - mse: 2266.3052 - val_loss: 5808.2861 - val_mse: 5808.2861\n",
      "Epoch 6/100\n",
      "1127/1127 [==============================] - 40s 36ms/step - loss: 1860.8979 - mse: 1860.8979 - val_loss: 16076.2959 - val_mse: 16076.2959\n",
      "Epoch 7/100\n",
      "1127/1127 [==============================] - 39s 35ms/step - loss: 1437.8735 - mse: 1437.8735 - val_loss: 9810.2090 - val_mse: 9810.2090\n",
      "Epoch 8/100\n",
      "1127/1127 [==============================] - 39s 35ms/step - loss: 1154.9229 - mse: 1154.9229 - val_loss: 5305.4590 - val_mse: 5305.4590\n",
      "Epoch 9/100\n",
      "1127/1127 [==============================] - 39s 34ms/step - loss: 894.7708 - mse: 894.7708 - val_loss: 7344.6211 - val_mse: 7344.6211\n",
      "Epoch 10/100\n",
      "1127/1127 [==============================] - 39s 35ms/step - loss: 696.9828 - mse: 696.9828 - val_loss: 16499.7637 - val_mse: 16499.7637\n",
      "Epoch 11/100\n",
      "1127/1127 [==============================] - 43s 38ms/step - loss: 551.4270 - mse: 551.4270 - val_loss: 7479.1646 - val_mse: 7479.1646\n",
      "Epoch 12/100\n",
      "1127/1127 [==============================] - 41s 36ms/step - loss: 469.6031 - mse: 469.6031 - val_loss: 8405.0254 - val_mse: 8405.0254\n",
      "Epoch 13/100\n",
      "1127/1127 [==============================] - 42s 38ms/step - loss: 382.0973 - mse: 382.0973 - val_loss: 7855.3813 - val_mse: 7855.3813\n",
      "CPU times: total: 32min 37s\n",
      "Wall time: 8min 42s\n"
     ]
    },
    {
     "data": {
      "text/plain": [
       "<keras.callbacks.History at 0x2f30c7d5350>"
      ]
     },
     "execution_count": 65,
     "metadata": {},
     "output_type": "execute_result"
    }
   ],
   "source": [
    "%%time\n",
    "# fit the model\n",
    "model.fit(x_train, y_train, epochs=100, batch_size=32, validation_split=0.1, verbose=1,\n",
    "          callbacks = [history, keras.callbacks.EarlyStopping(monitor='val_loss', min_delta=0, patience=10, verbose=0, mode='auto')])"
   ]
  },
  {
   "cell_type": "markdown",
   "metadata": {},
   "source": [
    "Let's plot the loss"
   ]
  },
  {
   "cell_type": "code",
   "execution_count": 68,
   "metadata": {
    "tags": []
   },
   "outputs": [
    {
     "data": {
      "image/png": "[encoded data removed]",
      "text/plain": [
       "<Figure size 640x480 with 1 Axes>"
      ]
     },
     "metadata": {},
     "output_type": "display_data"
    }
   ],
   "source": [
    "plt.plot(history.history['mse'])\n",
    "plt.plot(history.history['val_mse'])\n",
    "plt.title('MSE')\n",
    "plt.ylabel('Mean Squared Error')\n",
    "plt.xlabel('# Epoch')\n",
    "plt.legend(['train', 'test'], loc='upper left')\n",
    "plt.show()"
   ]
  },
  {
   "cell_type": "markdown",
   "metadata": {},
   "source": [
    "### Results on Train Set"
   ]
  },
  {
   "cell_type": "code",
   "execution_count": 7,
   "metadata": {
    "tags": []
   },
   "outputs": [
    {
     "name": "stdout",
     "output_type": "stream",
     "text": [
      "Connection established to:  ('PostgreSQL 15.2, compiled by Visual C++ build 1914, 64-bit',)\n"
     ]
    }
   ],
   "source": []
  },
  {
   "cell_type": "markdown",
   "metadata": {},
   "source": [
    "### Results on Test Set"
   ]
  },
  {
   "cell_type": "code",
   "execution_count": 70,
   "metadata": {
    "tags": []
   },
   "outputs": [
    {
     "ename": "ValueError",
     "evalue": "Data cardinality is ambiguous:\n  x sizes: 8946\n  y sizes: 248\nMake sure all arrays contain the same number of samples.",
     "output_type": "error",
     "traceback": [
      "\u001b[1;31m---------------------------------------------------------------------------\u001b[0m",
      "\u001b[1;31mValueError\u001b[0m                                Traceback (most recent call last)",
      "Cell \u001b[1;32mIn[70], line 1\u001b[0m\n\u001b[1;32m----> 1\u001b[0m scores_test \u001b[38;5;241m=\u001b[39m \u001b[43mmodel\u001b[49m\u001b[38;5;241;43m.\u001b[39;49m\u001b[43mevaluate\u001b[49m\u001b[43m(\u001b[49m\u001b[43mx_test\u001b[49m\u001b[43m,\u001b[49m\u001b[43m \u001b[49m\u001b[43my_test\u001b[49m\u001b[43m,\u001b[49m\u001b[43m \u001b[49m\u001b[43mverbose\u001b[49m\u001b[38;5;241;43m=\u001b[39;49m\u001b[38;5;241;43m2\u001b[39;49m\u001b[43m)\u001b[49m\n\u001b[0;32m      2\u001b[0m \u001b[38;5;28mprint\u001b[39m(\u001b[38;5;124m'\u001b[39m\u001b[38;5;124mMSE: \u001b[39m\u001b[38;5;132;01m{}\u001b[39;00m\u001b[38;5;124m'\u001b[39m\u001b[38;5;241m.\u001b[39mformat(scores_test[\u001b[38;5;241m1\u001b[39m]))\n",
      "File \u001b[1;32m~\\AppData\\Local\\Programs\\Python\\Python311\\Lib\\site-packages\\keras\\utils\\traceback_utils.py:70\u001b[0m, in \u001b[0;36mfilter_traceback.<locals>.error_handler\u001b[1;34m(*args, **kwargs)\u001b[0m\n\u001b[0;32m     67\u001b[0m     filtered_tb \u001b[38;5;241m=\u001b[39m _process_traceback_frames(e\u001b[38;5;241m.\u001b[39m__traceback__)\n\u001b[0;32m     68\u001b[0m     \u001b[38;5;66;03m# To get the full stack trace, call:\u001b[39;00m\n\u001b[0;32m     69\u001b[0m     \u001b[38;5;66;03m# `tf.debugging.disable_traceback_filtering()`\u001b[39;00m\n\u001b[1;32m---> 70\u001b[0m     \u001b[38;5;28;01mraise\u001b[39;00m e\u001b[38;5;241m.\u001b[39mwith_traceback(filtered_tb) \u001b[38;5;28;01mfrom\u001b[39;00m \u001b[38;5;28mNone\u001b[39m\n\u001b[0;32m     71\u001b[0m \u001b[38;5;28;01mfinally\u001b[39;00m:\n\u001b[0;32m     72\u001b[0m     \u001b[38;5;28;01mdel\u001b[39;00m filtered_tb\n",
      "File \u001b[1;32m~\\AppData\\Local\\Programs\\Python\\Python311\\Lib\\site-packages\\keras\\engine\\data_adapter.py:1852\u001b[0m, in \u001b[0;36m_check_data_cardinality\u001b[1;34m(data)\u001b[0m\n\u001b[0;32m   1845\u001b[0m     msg \u001b[38;5;241m+\u001b[39m\u001b[38;5;241m=\u001b[39m \u001b[38;5;124m\"\u001b[39m\u001b[38;5;124m  \u001b[39m\u001b[38;5;132;01m{}\u001b[39;00m\u001b[38;5;124m sizes: \u001b[39m\u001b[38;5;132;01m{}\u001b[39;00m\u001b[38;5;130;01m\\n\u001b[39;00m\u001b[38;5;124m\"\u001b[39m\u001b[38;5;241m.\u001b[39mformat(\n\u001b[0;32m   1846\u001b[0m         label,\n\u001b[0;32m   1847\u001b[0m         \u001b[38;5;124m\"\u001b[39m\u001b[38;5;124m, \u001b[39m\u001b[38;5;124m\"\u001b[39m\u001b[38;5;241m.\u001b[39mjoin(\n\u001b[0;32m   1848\u001b[0m             \u001b[38;5;28mstr\u001b[39m(i\u001b[38;5;241m.\u001b[39mshape[\u001b[38;5;241m0\u001b[39m]) \u001b[38;5;28;01mfor\u001b[39;00m i \u001b[38;5;129;01min\u001b[39;00m tf\u001b[38;5;241m.\u001b[39mnest\u001b[38;5;241m.\u001b[39mflatten(single_data)\n\u001b[0;32m   1849\u001b[0m         ),\n\u001b[0;32m   1850\u001b[0m     )\n\u001b[0;32m   1851\u001b[0m msg \u001b[38;5;241m+\u001b[39m\u001b[38;5;241m=\u001b[39m \u001b[38;5;124m\"\u001b[39m\u001b[38;5;124mMake sure all arrays contain the same number of samples.\u001b[39m\u001b[38;5;124m\"\u001b[39m\n\u001b[1;32m-> 1852\u001b[0m \u001b[38;5;28;01mraise\u001b[39;00m \u001b[38;5;167;01mValueError\u001b[39;00m(msg)\n",
      "\u001b[1;31mValueError\u001b[0m: Data cardinality is ambiguous:\n  x sizes: 8946\n  y sizes: 248\nMake sure all arrays contain the same number of samples."
     ]
    }
   ],
   "source": [
    "scores_test = model.evaluate(x_test, y_test, verbose=2)\n",
    "print('MSE: {}'.format(scores_test[1]))"
   ]
  },
  {
   "cell_type": "code",
   "execution_count": null,
   "metadata": {
    "tags": []
   },
   "outputs": [],
   "source": [
    "y_pred_test = model.predict(x_test, verbose=0)\n",
    "\n",
    "plt.figure(figsize=(30,20))\n",
    "plt.plot(y_pred_test, color='orange', label='Prediction')\n",
    "plt.plot(y_test, color='green', label='Ground Truth')\n",
    "plt.ylabel(\"RUL\")\n",
    "plt.xlabel(\"Unit Number\")\n",
    "plt.legend(loc='upper left')\n",
    "plt.show()"
   ]
  },
  {
   "cell_type": "code",
   "execution_count": null,
   "metadata": {},
   "outputs": [],
   "source": []
  }
 ],
 "metadata": {
  "kernelspec": {
   "display_name": "Python 3 (ipykernel)",
   "language": "python",
   "name": "python3"
  },
  "language_info": {
   "codemirror_mode": {
    "name": "ipython",
    "version": 3
   },
   "file_extension": ".py",
   "mimetype": "text/x-python",
   "name": "python",
   "nbconvert_exporter": "python",
   "pygments_lexer": "ipython3",
   "version": "3.11.2"
  }
 },
 "nbformat": 4,
 "nbformat_minor": 4
}
