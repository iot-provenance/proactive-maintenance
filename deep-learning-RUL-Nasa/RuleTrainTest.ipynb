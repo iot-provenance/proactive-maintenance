{
 "cells": [
  {
   "cell_type": "code",
   "execution_count": 15,
   "id": "66a9b9ac",
   "metadata": {
    "tags": []
   },
   "outputs": [],
   "source": [
    "import pandas as pd\n",
    "import numpy as np\n",
    "from tensorflow.keras.models import Sequential\n",
    "from tensorflow.keras.layers import Dense, LSTM, Activation, Masking, Dropout,BatchNormalization\n",
    "from tensorflow.keras.callbacks import EarlyStopping\n",
    "import matplotlib.pyplot as plt\n",
    "from sklearn.preprocessing import MinMaxScaler #to normalize data\n",
    "from os.path import exists"
   ]
  },
  {
   "cell_type": "code",
   "execution_count": 16,
   "id": "5bb4a646",
   "metadata": {
    "tags": []
   },
   "outputs": [],
   "source": [
    "#see https://github.com/archd3sai/Predictive-Maintenance-of-Aircraft-Engine/blob/master/RUL%20Prediction%20Regression/LSTM%20RUL%20Prediction.ipynb\n",
    "#dependent_var = ['RUL']\n",
    "index_columns_names =  [\"UnitNumber\",\"Cycle\"]\n",
    "operational_settings_columns_names = [\"OpSet\"+str(i) for i in range(1,4)]\n",
    "sensor_measure_columns_names =[\"SensorMeasure\"+str(i) for i in range(1,22)]\n",
    "input_file_column_names = index_columns_names + operational_settings_columns_names + sensor_measure_columns_names\n",
    "\n",
    "cols_to_drop = ['OpSet3', 'SensorMeasure1', 'SensorMeasure5', 'SensorMeasure6', 'SensorMeasure10', 'SensorMeasure14',\n",
    "     'SensorMeasure16', 'SensorMeasure18', 'SensorMeasure19']\n",
    "    \n",
    "df_train = pd.read_csv('train_FD002.txt',delim_whitespace=True,names=input_file_column_names)\n",
    "    \n",
    "df_test = pd.read_csv('test_FD004.txt',delim_whitespace=True,names=input_file_column_names)\n",
    "\n",
    "df_train = df_train.drop(cols_to_drop, axis = 1)\n",
    "df_test = df_test.drop(cols_to_drop, axis = 1)"
   ]
  },
  {
   "cell_type": "code",
   "execution_count": 17,
   "id": "0a391214",
   "metadata": {
    "tags": []
   },
   "outputs": [
    {
     "name": "stdout",
     "output_type": "stream",
     "text": [
      "Predictive Maintenance techniques are used to determine the condition of an equipment to plan the maintenance/failure ahead of its time\n",
      "\n",
      "Classification: Predicting the failure of machine in upcoming n days\n",
      "\n",
      "The lengths of the run varied with a minimum run length of 128 cycles and the maximum length of 356 cycles\n",
      "\n",
      "RUL - remaining useful life\n",
      "\n",
      "\n",
      "   UnitNumber  Cycle   OpSet1  OpSet2  SensorMeasure2  SensorMeasure3  \\\n",
      "0           1      1  34.9983    0.84          555.32         1358.61   \n",
      "\n",
      "   SensorMeasure4  SensorMeasure7  SensorMeasure8  SensorMeasure9  \\\n",
      "0         1137.23          194.64         2222.65         8341.91   \n",
      "\n",
      "   SensorMeasure11  SensorMeasure12  SensorMeasure13  SensorMeasure15  \\\n",
      "0            42.02           183.06          2387.72           9.3461   \n",
      "\n",
      "   SensorMeasure17  SensorMeasure20  SensorMeasure21  \n",
      "0              334            14.73           8.8071  \n",
      "   UnitNumber  Cycle   OpSet1  OpSet2  SensorMeasure2  SensorMeasure3  \\\n",
      "0           1      1  20.0072     0.7          606.67         1481.04   \n",
      "\n",
      "   SensorMeasure4  SensorMeasure7  SensorMeasure8  SensorMeasure9  \\\n",
      "0         1227.81          332.52         2323.67         8704.98   \n",
      "\n",
      "   SensorMeasure11  SensorMeasure12  SensorMeasure13  SensorMeasure15  \\\n",
      "0            43.83           313.03          2387.78           9.2229   \n",
      "\n",
      "   SensorMeasure17  SensorMeasure20  SensorMeasure21  \n",
      "0              362            24.31          14.7007  \n"
     ]
    }
   ],
   "source": [
    "print(\"Predictive Maintenance techniques are used to determine the condition of an equipment to plan the maintenance/failure ahead of its time\\n\")\n",
    "print(\"Classification: Predicting the failure of machine in upcoming n days\\n\")\n",
    "print(\"The lengths of the run varied with a minimum run length of 128 cycles and the maximum length of 356 cycles\\n\")\n",
    "print(\"RUL - remaining useful life\\n\\n\")\n",
    "print(df_train.head(1))\n",
    "print(df_test.head(1))"
   ]
  },
  {
   "cell_type": "code",
   "execution_count": 18,
   "id": "c292c159",
   "metadata": {
    "tags": []
   },
   "outputs": [
    {
     "name": "stdout",
     "output_type": "stream",
     "text": [
      "Find the max cycle count for each unit\n",
      "\n",
      "   UnitNumber  max\n",
      "0           1  149\n",
      "1           2  269\n",
      "2           3  206\n",
      "   UnitNumber  Cycle   OpSet1  OpSet2  SensorMeasure2  SensorMeasure3  \\\n",
      "0           1      1  34.9983  0.8400          555.32         1358.61   \n",
      "1           1      2  41.9982  0.8408          549.90         1353.22   \n",
      "2           1      3  24.9988  0.6218          537.31         1256.76   \n",
      "\n",
      "   SensorMeasure4  SensorMeasure7  SensorMeasure8  SensorMeasure9  \\\n",
      "0         1137.23          194.64         2222.65         8341.91   \n",
      "1         1125.78          138.51         2211.57         8303.96   \n",
      "2         1047.45          175.71         1915.11         8001.42   \n",
      "\n",
      "   SensorMeasure11  SensorMeasure12  SensorMeasure13  SensorMeasure15  \\\n",
      "0            42.02           183.06          2387.72           9.3461   \n",
      "1            42.20           130.42          2387.66           9.3774   \n",
      "2            36.69           164.22          2028.03          10.8941   \n",
      "\n",
      "   SensorMeasure17  SensorMeasure20  SensorMeasure21  RUL  \n",
      "0              334            14.73           8.8071  148  \n",
      "1              330            10.41           6.2665  147  \n",
      "2              309            14.08           8.6723  146  \n"
     ]
    }
   ],
   "source": [
    "print(\"Find the max cycle count for each unit\\n\"\n",
    "     )\n",
    "rul = pd.DataFrame(df_train.groupby('UnitNumber')['Cycle'].max()).reset_index()\n",
    "rul.columns = ['UnitNumber', 'max']\n",
    "print(rul.head(3))\n",
    "\n",
    "df_train = df_train.merge(rul, on=['UnitNumber'], how='left')\n",
    "df_train['RUL'] = df_train['max'] - df_train['Cycle']\n",
    "df_train.drop('max', axis=1, inplace=True)\n",
    "print(df_train.head(3))\n",
    "\n",
    "\n",
    "rul2 = pd.DataFrame(df_test.groupby('UnitNumber')['Cycle'].max()).reset_index()\n",
    "rul2.columns = ['UnitNumber', 'max']\n",
    "\n",
    "\n",
    "df_test = df_test.merge(rul2, on=['UnitNumber'], how='left')\n",
    "df_test['RUL'] = df_test['max'] - df_test['Cycle']\n",
    "df_test.drop('max', axis=1, inplace=True)\n"
   ]
  },
  {
   "cell_type": "code",
   "execution_count": 19,
   "id": "c28576ba",
   "metadata": {
    "tags": []
   },
   "outputs": [
    {
     "name": "stdout",
     "output_type": "stream",
     "text": [
      "   UnitNumber  max\n",
      "0           1  230\n",
      "1           2  153\n",
      "2           3  141\n",
      "   UnitNumber  Cycle   OpSet1  OpSet2  SensorMeasure2  SensorMeasure3  \\\n",
      "0           1      1  20.0072   0.700          606.67         1481.04   \n",
      "1           1      2  24.9984   0.620          536.22         1256.17   \n",
      "2           1      3  42.0000   0.842          549.23         1340.13   \n",
      "\n",
      "   SensorMeasure4  SensorMeasure7  SensorMeasure8  SensorMeasure9  \\\n",
      "0         1227.81          332.52         2323.67         8704.98   \n",
      "1         1031.48          174.46         1915.21         7999.94   \n",
      "2         1105.88          137.34         2211.93         8305.38   \n",
      "\n",
      "   SensorMeasure11  SensorMeasure12  SensorMeasure13  SensorMeasure15  \\\n",
      "0            43.83           313.03          2387.78           9.2229   \n",
      "1            36.11           163.61          2028.09          10.8632   \n",
      "2            41.52           129.98          2387.95           9.3960   \n",
      "\n",
      "   SensorMeasure17  SensorMeasure20  SensorMeasure21  RUL  \n",
      "0              362            24.31          14.7007  229  \n",
      "1              306            14.36           8.5748  228  \n",
      "2              328            10.39           6.4365  227  \n"
     ]
    }
   ],
   "source": [
    "print(rul2.head(3))\n",
    "print(df_test.head(3))\n",
    "#y_true = pd.read_csv('RUL_FD001.txt', delim_whitespace=True,names=[\"RUL\"])\n",
    "#y_true[\"UnitNumber\"] = y_true.index\n",
    "\n",
    "#print(y_true)"
   ]
  },
  {
   "cell_type": "code",
   "execution_count": 20,
   "id": "7c8b8ff1",
   "metadata": {
    "tags": []
   },
   "outputs": [
    {
     "name": "stdout",
     "output_type": "stream",
     "text": [
      "X_train (41019, 50, 17)\n",
      "y_train (41019,)\n"
     ]
    }
   ],
   "source": [
    "def gen_train(id_df, seq_length, seq_cols):\n",
    "    \"\"\"\n",
    "        function to prepare train data into (samples, time steps, features)\n",
    "        id_df = train dataframe\n",
    "        seq_length = look back period\n",
    "        seq_cols = feature columns\n",
    "    \"\"\"\n",
    "        \n",
    "    data_array = id_df[seq_cols].values\n",
    "    num_elements = data_array.shape[0]\n",
    "    lstm_array=[]\n",
    "    \n",
    "    for start, stop in zip(range(0, num_elements-seq_length+1), range(seq_length, num_elements+1)):\n",
    "        lstm_array.append(data_array[start:stop, :])\n",
    "    \n",
    "    return np.array(lstm_array)\n",
    "\n",
    "def gen_target(id_df, seq_length, label):\n",
    "    data_array = id_df[label].values\n",
    "    num_elements = data_array.shape[0]\n",
    "    return data_array[seq_length-1:num_elements+1]\n",
    "\n",
    "X_Columns = [column for column in df_train.columns if column !=\"RUL\"]\n",
    "\n",
    "\n",
    "X_ColumnsTest = [column for column in df_test.columns if column !=\"RUL\"]\n",
    "\n",
    "min_max_scaler = MinMaxScaler(feature_range=(-1,1))\n",
    "\n",
    "df_train[X_Columns] = min_max_scaler.fit_transform(df_train[X_Columns])\n",
    "df_test[X_ColumnsTest] = min_max_scaler.fit_transform(df_test[X_ColumnsTest])\n",
    "sequence_length=50\n",
    "\n",
    "X_train=np.concatenate(list(list(gen_train(df_train[df_train['UnitNumber']==unit], sequence_length, X_Columns)) for unit in df_train['UnitNumber'].unique()))\n",
    "print(\"X_train\",X_train.shape)\n",
    "y_train = np.concatenate(list(list(gen_target(df_train[df_train['UnitNumber']==unit], sequence_length, \"RUL\")) for unit in df_train['UnitNumber'].unique()))\n",
    "print(\"y_train\",y_train.shape)\n",
    "\n"
   ]
  },
  {
   "cell_type": "code",
   "execution_count": 21,
   "id": "42c0c13d",
   "metadata": {
    "tags": []
   },
   "outputs": [
    {
     "ename": "ValueError",
     "evalue": "all the input arrays must have same number of dimensions, but the array at index 0 has 3 dimension(s) and the array at index 9 has 1 dimension(s)",
     "output_type": "error",
     "traceback": [
      "\u001b[1;31m---------------------------------------------------------------------------\u001b[0m",
      "\u001b[1;31mValueError\u001b[0m                                Traceback (most recent call last)",
      "Cell \u001b[1;32mIn[21], line 1\u001b[0m\n\u001b[1;32m----> 1\u001b[0m X_test\u001b[38;5;241m=\u001b[39m\u001b[43mnp\u001b[49m\u001b[38;5;241;43m.\u001b[39;49m\u001b[43mconcatenate\u001b[49m\u001b[43m(\u001b[49m\u001b[38;5;28;43mlist\u001b[39;49m\u001b[43m(\u001b[49m\u001b[38;5;28;43mlist\u001b[39;49m\u001b[43m(\u001b[49m\u001b[43mgen_train\u001b[49m\u001b[43m(\u001b[49m\u001b[43mdf_test\u001b[49m\u001b[43m[\u001b[49m\u001b[43mdf_test\u001b[49m\u001b[43m[\u001b[49m\u001b[38;5;124;43m'\u001b[39;49m\u001b[38;5;124;43mUnitNumber\u001b[39;49m\u001b[38;5;124;43m'\u001b[39;49m\u001b[43m]\u001b[49m\u001b[38;5;241;43m==\u001b[39;49m\u001b[43munit\u001b[49m\u001b[43m]\u001b[49m\u001b[43m,\u001b[49m\u001b[43m \u001b[49m\u001b[43msequence_length\u001b[49m\u001b[43m,\u001b[49m\u001b[43m \u001b[49m\u001b[43mX_ColumnsTest\u001b[49m\u001b[43m)\u001b[49m\u001b[43m)\u001b[49m\u001b[43m \u001b[49m\u001b[38;5;28;43;01mfor\u001b[39;49;00m\u001b[43m \u001b[49m\u001b[43munit\u001b[49m\u001b[43m \u001b[49m\u001b[38;5;129;43;01min\u001b[39;49;00m\u001b[43m \u001b[49m\u001b[43mdf_test\u001b[49m\u001b[43m[\u001b[49m\u001b[38;5;124;43m'\u001b[39;49m\u001b[38;5;124;43mUnitNumber\u001b[39;49m\u001b[38;5;124;43m'\u001b[39;49m\u001b[43m]\u001b[49m\u001b[38;5;241;43m.\u001b[39;49m\u001b[43munique\u001b[49m\u001b[43m(\u001b[49m\u001b[43m)\u001b[49m\u001b[43m)\u001b[49m\u001b[43m)\u001b[49m\n\u001b[0;32m      2\u001b[0m \u001b[38;5;28mprint\u001b[39m(\u001b[38;5;124m\"\u001b[39m\u001b[38;5;124mX_test\u001b[39m\u001b[38;5;124m\"\u001b[39m,X_test\u001b[38;5;241m.\u001b[39mshape)\n\u001b[0;32m      3\u001b[0m y_test \u001b[38;5;241m=\u001b[39m np\u001b[38;5;241m.\u001b[39mconcatenate(\u001b[38;5;28mlist\u001b[39m(\u001b[38;5;28mlist\u001b[39m(gen_target(df_test[df_test[\u001b[38;5;124m'\u001b[39m\u001b[38;5;124mUnitNumber\u001b[39m\u001b[38;5;124m'\u001b[39m]\u001b[38;5;241m==\u001b[39munit], sequence_length, \u001b[38;5;124m\"\u001b[39m\u001b[38;5;124mRUL\u001b[39m\u001b[38;5;124m\"\u001b[39m)) \u001b[38;5;28;01mfor\u001b[39;00m unit \u001b[38;5;129;01min\u001b[39;00m df_test[\u001b[38;5;124m'\u001b[39m\u001b[38;5;124mUnitNumber\u001b[39m\u001b[38;5;124m'\u001b[39m]\u001b[38;5;241m.\u001b[39munique()))\n",
      "File \u001b[1;32m<__array_function__ internals>:180\u001b[0m, in \u001b[0;36mconcatenate\u001b[1;34m(*args, **kwargs)\u001b[0m\n",
      "\u001b[1;31mValueError\u001b[0m: all the input arrays must have same number of dimensions, but the array at index 0 has 3 dimension(s) and the array at index 9 has 1 dimension(s)"
     ]
    }
   ],
   "source": [
    "X_test=np.concatenate(list(list(gen_train(df_test[df_test['UnitNumber']==unit], sequence_length, X_ColumnsTest)) for unit in df_test['UnitNumber'].unique()))\n",
    "print(\"X_test\",X_test.shape)\n",
    "y_test = np.concatenate(list(list(gen_target(df_test[df_test['UnitNumber']==unit], sequence_length, \"RUL\")) for unit in df_test['UnitNumber'].unique()))\n",
    "print(\"y_test\",y_test.shape)\n",
    "\n",
    "nb_features = X_train.shape[2]\n",
    "nb_out = 1\n",
    "\n",
    "\n",
    "\n",
    "model = Sequential()\n",
    "model.add(LSTM(\n",
    "         units=512,\n",
    "         return_sequences=True,\n",
    "         input_shape=(sequence_length, nb_features)))\n",
    "model.add(BatchNormalization())\n",
    "model.add(Dropout(0.2))\n",
    "model.add(LSTM(\n",
    "          units=128,\n",
    "          return_sequences=False))\n",
    "model.add(Dropout(0.2))\n",
    "model.add(Dense(units=1, activation='relu'))\n",
    "model.add(Activation(\"relu\"))\n",
    "model.compile(loss=\"mse\", optimizer=\"rmsprop\", metrics=['mse'])\n",
    "\n",
    "model.summary()"
   ]
  },
  {
   "cell_type": "code",
   "execution_count": null,
   "id": "9a595191",
   "metadata": {
    "scrolled": true,
    "tags": []
   },
   "outputs": [
    {
     "name": "stdout",
     "output_type": "stream",
     "text": [
      "Train the model\n",
      "Epoch 1/3\n",
      " 814/1380 [================>.............] - ETA: 2:49 - loss: 420.2318 - mse: 420.2318"
     ]
    }
   ],
   "source": [
    "\n",
    "print (\"Train the model\")\n",
    "length=len(X_train)\n",
    "path_to_file=\"D:\\\\RulNasa\\\\lstm_aircraft_model4.h5\"\n",
    "\n",
    "file_exists = exists(path_to_file)\n",
    "if(file_exists):\n",
    "    model.load_weights(path_to_file)\n",
    "    \n",
    "history=model.fit(X_train, y_train, epochs=3, batch_size=32, validation_split=0.1, verbose=1,\n",
    "          callbacks = [EarlyStopping(monitor='val_loss', min_delta=0, patience=10, verbose=0, mode='auto')])\n",
    "\n",
    "model.save_weights(path_to_file)\n"
   ]
  },
  {
   "cell_type": "code",
   "execution_count": null,
   "id": "9c26cf53",
   "metadata": {
    "tags": []
   },
   "outputs": [],
   "source": [
    "plt.plot(history.history['mse'])\n",
    "#plt.plot(history.history['val_mean_squared_error'])\n",
    "plt.title('MSE')\n",
    "plt.ylabel('Mean Squared Error')\n",
    "plt.xlabel('# Epoch')\n",
    "plt.legend(['train'], loc='upper left')\n",
    "plt.show()"
   ]
  },
  {
   "cell_type": "code",
   "execution_count": null,
   "id": "d9277738",
   "metadata": {
    "tags": []
   },
   "outputs": [],
   "source": [
    "scores = model.evaluate(X_train, y_train, verbose=1, batch_size=200)\n",
    "print('MSE: {}'.format(scores[1]))"
   ]
  },
  {
   "cell_type": "code",
   "execution_count": null,
   "id": "5d0662b2",
   "metadata": {
    "tags": []
   },
   "outputs": [],
   "source": [
    "y_pred_test = model.predict(X_test, verbose=0)\n",
    "\n",
    "plt.figure(figsize=(20,5))\n",
    "plt.plot(y_pred_test, color='orange', label='Prediction')\n",
    "plt.plot(y_test, color='green', label='Ground Truth')\n",
    "plt.ylabel(\"RUL\")\n",
    "plt.xlabel(\"Unit Number\")\n",
    "plt.legend(loc='upper left')\n",
    "plt.show()"
   ]
  },
  {
   "cell_type": "code",
   "execution_count": null,
   "id": "ab8da69f",
   "metadata": {},
   "outputs": [],
   "source": [
    "print(\"done!\")"
   ]
  },
  {
   "cell_type": "code",
   "execution_count": null,
   "id": "e12d6aba",
   "metadata": {},
   "outputs": [],
   "source": []
  }
 ],
 "metadata": {
  "kernelspec": {
   "display_name": "Python 3 (ipykernel)",
   "language": "python",
   "name": "python3"
  },
  "language_info": {
   "codemirror_mode": {
    "name": "ipython",
    "version": 3
   },
   "file_extension": ".py",
   "mimetype": "text/x-python",
   "name": "python",
   "nbconvert_exporter": "python",
   "pygments_lexer": "ipython3",
   "version": "3.11.2"
  }
 },
 "nbformat": 4,
 "nbformat_minor": 5
}
